{
  "nbformat": 4,
  "nbformat_minor": 0,
  "metadata": {
    "colab": {
      "provenance": [],
      "collapsed_sections": [],
      "authorship_tag": "ABX9TyNif6ToyPNFfXkz2PiVE/8+",
      "include_colab_link": true
    },
    "kernelspec": {
      "name": "python3",
      "display_name": "Python 3"
    },
    "language_info": {
      "name": "python"
    }
  },
  "cells": [
    {
      "cell_type": "markdown",
      "metadata": {
        "id": "view-in-github",
        "colab_type": "text"
      },
      "source": [
        "<a href=\"https://colab.research.google.com/github/ManokarGopinath/Data-scrapping/blob/main/Read_a_CSV_file.ipynb\" target=\"_parent\"><img src=\"https://colab.research.google.com/assets/colab-badge.svg\" alt=\"Open In Colab\"/></a>"
      ]
    },
    {
      "cell_type": "code",
      "execution_count": null,
      "metadata": {
        "colab": {
          "base_uri": "https://localhost:8080/",
          "height": 175
        },
        "id": "hl79o75Q9hy2",
        "outputId": "072731c7-757d-47d7-9f21-cd9fe2ebc258"
      },
      "outputs": [
        {
          "output_type": "display_data",
          "data": {
            "text/plain": [
              "   col1 col2 col3\n",
              "0     1    a    q\n",
              "1     2    x    w\n",
              "2     3    e    y\n",
              "3     4    f    v"
            ],
            "text/html": [
              "\n",
              "  <div id=\"df-5914aeb9-7b15-4f64-aab3-fee4d9276a86\">\n",
              "    <div class=\"colab-df-container\">\n",
              "      <div>\n",
              "<style scoped>\n",
              "    .dataframe tbody tr th:only-of-type {\n",
              "        vertical-align: middle;\n",
              "    }\n",
              "\n",
              "    .dataframe tbody tr th {\n",
              "        vertical-align: top;\n",
              "    }\n",
              "\n",
              "    .dataframe thead th {\n",
              "        text-align: right;\n",
              "    }\n",
              "</style>\n",
              "<table border=\"1\" class=\"dataframe\">\n",
              "  <thead>\n",
              "    <tr style=\"text-align: right;\">\n",
              "      <th></th>\n",
              "      <th>col1</th>\n",
              "      <th>col2</th>\n",
              "      <th>col3</th>\n",
              "    </tr>\n",
              "  </thead>\n",
              "  <tbody>\n",
              "    <tr>\n",
              "      <th>0</th>\n",
              "      <td>1</td>\n",
              "      <td>a</td>\n",
              "      <td>q</td>\n",
              "    </tr>\n",
              "    <tr>\n",
              "      <th>1</th>\n",
              "      <td>2</td>\n",
              "      <td>x</td>\n",
              "      <td>w</td>\n",
              "    </tr>\n",
              "    <tr>\n",
              "      <th>2</th>\n",
              "      <td>3</td>\n",
              "      <td>e</td>\n",
              "      <td>y</td>\n",
              "    </tr>\n",
              "    <tr>\n",
              "      <th>3</th>\n",
              "      <td>4</td>\n",
              "      <td>f</td>\n",
              "      <td>v</td>\n",
              "    </tr>\n",
              "  </tbody>\n",
              "</table>\n",
              "</div>\n",
              "      <button class=\"colab-df-convert\" onclick=\"convertToInteractive('df-5914aeb9-7b15-4f64-aab3-fee4d9276a86')\"\n",
              "              title=\"Convert this dataframe to an interactive table.\"\n",
              "              style=\"display:none;\">\n",
              "        \n",
              "  <svg xmlns=\"http://www.w3.org/2000/svg\" height=\"24px\"viewBox=\"0 0 24 24\"\n",
              "       width=\"24px\">\n",
              "    <path d=\"M0 0h24v24H0V0z\" fill=\"none\"/>\n",
              "    <path d=\"M18.56 5.44l.94 2.06.94-2.06 2.06-.94-2.06-.94-.94-2.06-.94 2.06-2.06.94zm-11 1L8.5 8.5l.94-2.06 2.06-.94-2.06-.94L8.5 2.5l-.94 2.06-2.06.94zm10 10l.94 2.06.94-2.06 2.06-.94-2.06-.94-.94-2.06-.94 2.06-2.06.94z\"/><path d=\"M17.41 7.96l-1.37-1.37c-.4-.4-.92-.59-1.43-.59-.52 0-1.04.2-1.43.59L10.3 9.45l-7.72 7.72c-.78.78-.78 2.05 0 2.83L4 21.41c.39.39.9.59 1.41.59.51 0 1.02-.2 1.41-.59l7.78-7.78 2.81-2.81c.8-.78.8-2.07 0-2.86zM5.41 20L4 18.59l7.72-7.72 1.47 1.35L5.41 20z\"/>\n",
              "  </svg>\n",
              "      </button>\n",
              "      \n",
              "  <style>\n",
              "    .colab-df-container {\n",
              "      display:flex;\n",
              "      flex-wrap:wrap;\n",
              "      gap: 12px;\n",
              "    }\n",
              "\n",
              "    .colab-df-convert {\n",
              "      background-color: #E8F0FE;\n",
              "      border: none;\n",
              "      border-radius: 50%;\n",
              "      cursor: pointer;\n",
              "      display: none;\n",
              "      fill: #1967D2;\n",
              "      height: 32px;\n",
              "      padding: 0 0 0 0;\n",
              "      width: 32px;\n",
              "    }\n",
              "\n",
              "    .colab-df-convert:hover {\n",
              "      background-color: #E2EBFA;\n",
              "      box-shadow: 0px 1px 2px rgba(60, 64, 67, 0.3), 0px 1px 3px 1px rgba(60, 64, 67, 0.15);\n",
              "      fill: #174EA6;\n",
              "    }\n",
              "\n",
              "    [theme=dark] .colab-df-convert {\n",
              "      background-color: #3B4455;\n",
              "      fill: #D2E3FC;\n",
              "    }\n",
              "\n",
              "    [theme=dark] .colab-df-convert:hover {\n",
              "      background-color: #434B5C;\n",
              "      box-shadow: 0px 1px 3px 1px rgba(0, 0, 0, 0.15);\n",
              "      filter: drop-shadow(0px 1px 2px rgba(0, 0, 0, 0.3));\n",
              "      fill: #FFFFFF;\n",
              "    }\n",
              "  </style>\n",
              "\n",
              "      <script>\n",
              "        const buttonEl =\n",
              "          document.querySelector('#df-5914aeb9-7b15-4f64-aab3-fee4d9276a86 button.colab-df-convert');\n",
              "        buttonEl.style.display =\n",
              "          google.colab.kernel.accessAllowed ? 'block' : 'none';\n",
              "\n",
              "        async function convertToInteractive(key) {\n",
              "          const element = document.querySelector('#df-5914aeb9-7b15-4f64-aab3-fee4d9276a86');\n",
              "          const dataTable =\n",
              "            await google.colab.kernel.invokeFunction('convertToInteractive',\n",
              "                                                     [key], {});\n",
              "          if (!dataTable) return;\n",
              "\n",
              "          const docLinkHtml = 'Like what you see? Visit the ' +\n",
              "            '<a target=\"_blank\" href=https://colab.research.google.com/notebooks/data_table.ipynb>data table notebook</a>'\n",
              "            + ' to learn more about interactive tables.';\n",
              "          element.innerHTML = '';\n",
              "          dataTable['output_type'] = 'display_data';\n",
              "          await google.colab.output.renderOutput(dataTable, element);\n",
              "          const docLink = document.createElement('div');\n",
              "          docLink.innerHTML = docLinkHtml;\n",
              "          element.appendChild(docLink);\n",
              "        }\n",
              "      </script>\n",
              "    </div>\n",
              "  </div>\n",
              "  "
            ]
          },
          "metadata": {}
        }
      ],
      "source": [
        "import pandas as pd\n",
        "d1 = {'col1': [1, 2, 3 ,4], 'col2': ['a','x','e', 'f'], 'col3':['q','w','y','v'], }\n",
        "\n",
        "df = pd.DataFrame(data=d1)\n",
        "display(df)\n",
        "#df.to_csv('demo.csv')\n",
        "df.to_csv('table.csv')"
      ]
    },
    {
      "cell_type": "code",
      "source": [
        "# reading by columns\n",
        "import pandas as pd\n",
        "\n",
        "dataset = pd.read_csv(\"table.csv\")\n",
        "\n",
        "data = dataset.iloc[:,1:2].values\n",
        "print(data)"
      ],
      "metadata": {
        "colab": {
          "base_uri": "https://localhost:8080/"
        },
        "id": "6IpalZst_ol7",
        "outputId": "42f402f9-8501-45b1-a00e-0284d5abadbd"
      },
      "execution_count": null,
      "outputs": [
        {
          "output_type": "stream",
          "name": "stdout",
          "text": [
            "[[1]\n",
            " [2]\n",
            " [3]\n",
            " [4]]\n"
          ]
        }
      ]
    },
    {
      "cell_type": "code",
      "source": [
        "# reading by invidual columns and getting outputs \n",
        "import pandas as pd\n",
        "import csv\n",
        "with open('table.csv', encoding='utf-8-sig') as csvfile:\n",
        "    reader = csv.reader(csvfile)\n",
        "    count = 0\n",
        "    #fsa=[]\n",
        "    for row in reader:\n",
        "        count = count+1\n",
        "        print(row[2])\n",
        "        #fsa.append(row[1])\n",
        "#print(fsa[0:])\n",
        "#print(fsa[3:])"
      ],
      "metadata": {
        "colab": {
          "base_uri": "https://localhost:8080/"
        },
        "id": "c7mcV0kU_yHw",
        "outputId": "662aa139-68d0-48fb-d030-5686efc53b89"
      },
      "execution_count": null,
      "outputs": [
        {
          "output_type": "stream",
          "name": "stdout",
          "text": [
            "col2\n",
            "a\n",
            "x\n",
            "e\n",
            "f\n"
          ]
        }
      ]
    },
    {
      "cell_type": "code",
      "source": [
        "# Import pandas\n",
        "import pandas as pd\n",
        "\n",
        "# reading csv file\n",
        "pd.read_csv(\"table.csv\")\n"
      ],
      "metadata": {
        "colab": {
          "base_uri": "https://localhost:8080/",
          "height": 175
        },
        "id": "OWkY7rcLFdYY",
        "outputId": "93b16b35-40d7-41a2-90f4-a607d1483908"
      },
      "execution_count": null,
      "outputs": [
        {
          "output_type": "execute_result",
          "data": {
            "text/plain": [
              "   Unnamed: 0  col1 col2 col3\n",
              "0           0     1    a    q\n",
              "1           1     2    x    w\n",
              "2           2     3    e    y\n",
              "3           3     4    f    v"
            ],
            "text/html": [
              "\n",
              "  <div id=\"df-77fa4ca8-a490-41f8-8fe5-e0ed4b379832\">\n",
              "    <div class=\"colab-df-container\">\n",
              "      <div>\n",
              "<style scoped>\n",
              "    .dataframe tbody tr th:only-of-type {\n",
              "        vertical-align: middle;\n",
              "    }\n",
              "\n",
              "    .dataframe tbody tr th {\n",
              "        vertical-align: top;\n",
              "    }\n",
              "\n",
              "    .dataframe thead th {\n",
              "        text-align: right;\n",
              "    }\n",
              "</style>\n",
              "<table border=\"1\" class=\"dataframe\">\n",
              "  <thead>\n",
              "    <tr style=\"text-align: right;\">\n",
              "      <th></th>\n",
              "      <th>Unnamed: 0</th>\n",
              "      <th>col1</th>\n",
              "      <th>col2</th>\n",
              "      <th>col3</th>\n",
              "    </tr>\n",
              "  </thead>\n",
              "  <tbody>\n",
              "    <tr>\n",
              "      <th>0</th>\n",
              "      <td>0</td>\n",
              "      <td>1</td>\n",
              "      <td>a</td>\n",
              "      <td>q</td>\n",
              "    </tr>\n",
              "    <tr>\n",
              "      <th>1</th>\n",
              "      <td>1</td>\n",
              "      <td>2</td>\n",
              "      <td>x</td>\n",
              "      <td>w</td>\n",
              "    </tr>\n",
              "    <tr>\n",
              "      <th>2</th>\n",
              "      <td>2</td>\n",
              "      <td>3</td>\n",
              "      <td>e</td>\n",
              "      <td>y</td>\n",
              "    </tr>\n",
              "    <tr>\n",
              "      <th>3</th>\n",
              "      <td>3</td>\n",
              "      <td>4</td>\n",
              "      <td>f</td>\n",
              "      <td>v</td>\n",
              "    </tr>\n",
              "  </tbody>\n",
              "</table>\n",
              "</div>\n",
              "      <button class=\"colab-df-convert\" onclick=\"convertToInteractive('df-77fa4ca8-a490-41f8-8fe5-e0ed4b379832')\"\n",
              "              title=\"Convert this dataframe to an interactive table.\"\n",
              "              style=\"display:none;\">\n",
              "        \n",
              "  <svg xmlns=\"http://www.w3.org/2000/svg\" height=\"24px\"viewBox=\"0 0 24 24\"\n",
              "       width=\"24px\">\n",
              "    <path d=\"M0 0h24v24H0V0z\" fill=\"none\"/>\n",
              "    <path d=\"M18.56 5.44l.94 2.06.94-2.06 2.06-.94-2.06-.94-.94-2.06-.94 2.06-2.06.94zm-11 1L8.5 8.5l.94-2.06 2.06-.94-2.06-.94L8.5 2.5l-.94 2.06-2.06.94zm10 10l.94 2.06.94-2.06 2.06-.94-2.06-.94-.94-2.06-.94 2.06-2.06.94z\"/><path d=\"M17.41 7.96l-1.37-1.37c-.4-.4-.92-.59-1.43-.59-.52 0-1.04.2-1.43.59L10.3 9.45l-7.72 7.72c-.78.78-.78 2.05 0 2.83L4 21.41c.39.39.9.59 1.41.59.51 0 1.02-.2 1.41-.59l7.78-7.78 2.81-2.81c.8-.78.8-2.07 0-2.86zM5.41 20L4 18.59l7.72-7.72 1.47 1.35L5.41 20z\"/>\n",
              "  </svg>\n",
              "      </button>\n",
              "      \n",
              "  <style>\n",
              "    .colab-df-container {\n",
              "      display:flex;\n",
              "      flex-wrap:wrap;\n",
              "      gap: 12px;\n",
              "    }\n",
              "\n",
              "    .colab-df-convert {\n",
              "      background-color: #E8F0FE;\n",
              "      border: none;\n",
              "      border-radius: 50%;\n",
              "      cursor: pointer;\n",
              "      display: none;\n",
              "      fill: #1967D2;\n",
              "      height: 32px;\n",
              "      padding: 0 0 0 0;\n",
              "      width: 32px;\n",
              "    }\n",
              "\n",
              "    .colab-df-convert:hover {\n",
              "      background-color: #E2EBFA;\n",
              "      box-shadow: 0px 1px 2px rgba(60, 64, 67, 0.3), 0px 1px 3px 1px rgba(60, 64, 67, 0.15);\n",
              "      fill: #174EA6;\n",
              "    }\n",
              "\n",
              "    [theme=dark] .colab-df-convert {\n",
              "      background-color: #3B4455;\n",
              "      fill: #D2E3FC;\n",
              "    }\n",
              "\n",
              "    [theme=dark] .colab-df-convert:hover {\n",
              "      background-color: #434B5C;\n",
              "      box-shadow: 0px 1px 3px 1px rgba(0, 0, 0, 0.15);\n",
              "      filter: drop-shadow(0px 1px 2px rgba(0, 0, 0, 0.3));\n",
              "      fill: #FFFFFF;\n",
              "    }\n",
              "  </style>\n",
              "\n",
              "      <script>\n",
              "        const buttonEl =\n",
              "          document.querySelector('#df-77fa4ca8-a490-41f8-8fe5-e0ed4b379832 button.colab-df-convert');\n",
              "        buttonEl.style.display =\n",
              "          google.colab.kernel.accessAllowed ? 'block' : 'none';\n",
              "\n",
              "        async function convertToInteractive(key) {\n",
              "          const element = document.querySelector('#df-77fa4ca8-a490-41f8-8fe5-e0ed4b379832');\n",
              "          const dataTable =\n",
              "            await google.colab.kernel.invokeFunction('convertToInteractive',\n",
              "                                                     [key], {});\n",
              "          if (!dataTable) return;\n",
              "\n",
              "          const docLinkHtml = 'Like what you see? Visit the ' +\n",
              "            '<a target=\"_blank\" href=https://colab.research.google.com/notebooks/data_table.ipynb>data table notebook</a>'\n",
              "            + ' to learn more about interactive tables.';\n",
              "          element.innerHTML = '';\n",
              "          dataTable['output_type'] = 'display_data';\n",
              "          await google.colab.output.renderOutput(dataTable, element);\n",
              "          const docLink = document.createElement('div');\n",
              "          docLink.innerHTML = docLinkHtml;\n",
              "          element.appendChild(docLink);\n",
              "        }\n",
              "      </script>\n",
              "    </div>\n",
              "  </div>\n",
              "  "
            ]
          },
          "metadata": {},
          "execution_count": 4
        }
      ]
    },
    {
      "cell_type": "code",
      "source": [
        "# Load pandas\n",
        "import pandas as pd\n",
        "\n",
        "# Read CSV file into DataFrame df\n",
        "df = pd.read_csv('table.csv', index_col=0)\n",
        "\n",
        "# Show dataframe\n",
        "print(df)"
      ],
      "metadata": {
        "colab": {
          "base_uri": "https://localhost:8080/"
        },
        "id": "8rVdfyTnHY5f",
        "outputId": "101709f5-8888-4032-a4f5-81df5a0fcb2e"
      },
      "execution_count": null,
      "outputs": [
        {
          "output_type": "stream",
          "name": "stdout",
          "text": [
            "  400248173885 VERSACE L 'HOMME 3.  $34.99R\n",
            "1  400244460217 xGrainam 24 Blk 4W  $84.99R\n",
            "2                         Subtotal  $119.98\n",
            "3                 Sales Tax 8.250%    $9.90\n",
            "4                            Total  $129.88\n",
            "5              Sold: 2 Returned: 0         \n",
            "6                             Visa  $129.88\n"
          ]
        }
      ]
    },
    {
      "cell_type": "code",
      "source": [
        "import pandas as pd\n",
        "\n",
        "dataset = pd.read_csv('table.csv')\n",
        "ftCol = dataset.iloc[:, 1].values\n",
        "ftCol\n",
        "print(ftCol)\n"
      ],
      "metadata": {
        "colab": {
          "base_uri": "https://localhost:8080/"
        },
        "id": "_7rhGZSdJtEf",
        "outputId": "ed8ed4cf-ed68-4934-df0b-17f878414ec3"
      },
      "execution_count": null,
      "outputs": [
        {
          "output_type": "stream",
          "name": "stdout",
          "text": [
            "['400244460217 xGrainam 24 Blk 4W' 'Subtotal' 'Sales Tax 8.250%' 'Total'\n",
            " 'Sold: 2 Returned: 0' 'Visa']\n"
          ]
        }
      ]
    },
    {
      "cell_type": "code",
      "source": [
        "import pandas as pd\n",
        "\n",
        "dataset = pd.read_csv('table.csv')\n",
        "ftCol = dataset.iloc[:, 1].values\n",
        "ftCol\n",
        "print(ftCol[0])"
      ],
      "metadata": {
        "colab": {
          "base_uri": "https://localhost:8080/"
        },
        "id": "CeHUlHtuKmqe",
        "outputId": "b2190edd-85cb-4276-a3fc-0ba913bdeb9d"
      },
      "execution_count": null,
      "outputs": [
        {
          "output_type": "stream",
          "name": "stdout",
          "text": [
            "400244460217 xGrainam 24 Blk 4W\n"
          ]
        }
      ]
    },
    {
      "cell_type": "code",
      "source": [
        "# Python program to demonstrate\n",
        "# string slicing\n",
        "\n",
        "# String slicing\n",
        "String = 'ASTRING'\n",
        "\n",
        "# Using slice constructor\n",
        "s1 = slice(3)\n",
        "s2 = slice(1, 5, 2)\n",
        "s3 = slice(-1, -12, -2)\n",
        "\n",
        "print(String[s1])\n",
        "print(String[s2])\n",
        "print(String[s3])\n"
      ],
      "metadata": {
        "colab": {
          "base_uri": "https://localhost:8080/"
        },
        "id": "H_TrZxwcLm0M",
        "outputId": "190f1978-36b4-4dd2-af09-36ecded2dd8d"
      },
      "execution_count": null,
      "outputs": [
        {
          "output_type": "stream",
          "name": "stdout",
          "text": [
            "AST\n",
            "SR\n",
            "GITA\n"
          ]
        }
      ]
    },
    {
      "cell_type": "code",
      "source": [
        "import pandas as pd\n",
        "\n",
        "dataset = pd.read_csv('table.csv')\n",
        "ftCol = dataset.iloc[:, 1].values\n",
        "ftCol\n",
        "s1 = ftCol[1]\n",
        "s = slice(12)\n",
        "print(s1[s])"
      ],
      "metadata": {
        "colab": {
          "base_uri": "https://localhost:8080/"
        },
        "id": "FiqEpKaOL6RY",
        "outputId": "f12513b2-c748-4839-ec3f-cb6de6019433"
      },
      "execution_count": null,
      "outputs": [
        {
          "output_type": "stream",
          "name": "stdout",
          "text": [
            "Subtotal\n"
          ]
        }
      ]
    },
    {
      "cell_type": "code",
      "source": [
        "import pandas as pd\n",
        "\n",
        "dataset = pd.read_csv('table.csv')\n",
        "ftCol = dataset.iloc[:, 2].values\n",
        "ftCol\n",
        "s1 = ftCol[0].split()\n",
        "#s = slice(12)\n",
        "#print(s1[s])\n",
        "#print(s1[1:])\n",
        "m = ' '.join(s1[1:])\n",
        "print(m)"
      ],
      "metadata": {
        "colab": {
          "base_uri": "https://localhost:8080/"
        },
        "id": "HEvju9JlNxXt",
        "outputId": "02cd877e-12c6-46bc-a234-a8a9769d9c6f"
      },
      "execution_count": null,
      "outputs": [
        {
          "output_type": "stream",
          "name": "stdout",
          "text": [
            "xGrainam 24 Blk 4W\n"
          ]
        }
      ]
    },
    {
      "cell_type": "code",
      "source": [
        "# reading by columns and getting output as list\n",
        "import pandas as pd\n",
        "import csv\n",
        "with open('table.csv', encoding='utf-8-sig') as csvfile:\n",
        "    reader = csv.reader(csvfile)\n",
        "    count = 0\n",
        "    fsa=[]\n",
        "    for row in reader:\n",
        "        count = count+1\n",
        "        #print(row[2])\n",
        "        fsa.append(row[2])\n",
        "print(fsa[0:])\n",
        "print(fsa[3:])\n",
        "s1 = fsa[1]\n",
        "s = slice(12)\n",
        "print(s1[s])"
      ],
      "metadata": {
        "colab": {
          "base_uri": "https://localhost:8080/"
        },
        "id": "BfeIZjz_R0AD",
        "outputId": "3b1a020b-eec8-4d73-c23c-615171aff77a"
      },
      "execution_count": 35,
      "outputs": [
        {
          "output_type": "stream",
          "name": "stdout",
          "text": [
            "[\"400248173885 VERSACE L 'HOMME 3.\", '400244460217 xGrainam 24 Blk 4W', 'Subtotal', 'Sales Tax 8.250%', 'Total', 'Sold: 2 Returned: 0', 'Visa']\n",
            "['Sales Tax 8.250%', 'Total', 'Sold: 2 Returned: 0', 'Visa']\n",
            "400244460217\n"
          ]
        }
      ]
    },
    {
      "cell_type": "code",
      "source": [
        "# reading by columns and getting output as list\n",
        "import pandas as pd\n",
        "import csv\n",
        "with open('table.csv', encoding='utf-8-sig') as csvfile:\n",
        "    reader = csv.reader(csvfile)\n",
        "    count = 0\n",
        "    fsa=[]\n",
        "    for row in reader:\n",
        "        count = count+1\n",
        "        #print(row[2])\n",
        "        fsa.append(row[2])\n",
        "#print(fsa[0:])\n",
        "#print(fsa[3:])\n",
        "s1 = fsa[1].split()\n",
        "#s = slice(12)\n",
        "#print(s1[s])\n",
        "#print(s1[1:])\n",
        "m = ' '.join(s1[1:])\n",
        "print(m)"
      ],
      "metadata": {
        "colab": {
          "base_uri": "https://localhost:8080/"
        },
        "id": "Ii8X0XO9R5_P",
        "outputId": "99c14614-ff3d-47ca-9ce7-a4e8fd8ab24e"
      },
      "execution_count": 37,
      "outputs": [
        {
          "output_type": "stream",
          "name": "stdout",
          "text": [
            "xGrainam 24 Blk 4W\n"
          ]
        }
      ]
    },
    {
      "cell_type": "code",
      "source": [
        "# reading by columns and getting output as list\n",
        "import pandas as pd\n",
        "import csv\n",
        "with open('key_value.csv', encoding='utf-8-sig') as csvfile:\n",
        "    reader = csv.reader(csvfile)\n",
        "    count = 0\n",
        "    fsa=[]\n",
        "    for row in reader:\n",
        "        count = count+1\n",
        "        #print(row[2])\n",
        "        fsa.append(row[2])\n",
        "print(fsa[0:])\n",
        "#print(fsa[3:])"
      ],
      "metadata": {
        "colab": {
          "base_uri": "https://localhost:8080/"
        },
        "id": "GIdluMznW5hT",
        "outputId": "0ba685a8-0cfa-4162-d083-d00028cf9d04"
      },
      "execution_count": null,
      "outputs": [
        {
          "output_type": "stream",
          "name": "stdout",
          "text": [
            "['Values', 'A0000000031010', '5022', '1685', '01', '2', '07/12/22 11:40:28 AM ASSOC:', '08912D', 'XXXXXXXXXXXX2868 <I>', '0', '1685-01-5022-2193-7', '1685-01-5022-2193-7', 'CREDIT', '$129.88', '$9.90', 'VALUE_NOT_FOUND', '$119.98', 'Detail #:1-01 2.09 012988']\n"
          ]
        }
      ]
    },
    {
      "cell_type": "code",
      "source": [
        "# reading by columns and getting output as list\n",
        "import pandas as pd\n",
        "import csv\n",
        "with open('key_value.csv', encoding='utf-8-sig') as csvfile:\n",
        "    reader = csv.reader(csvfile)\n",
        "    count = 0\n",
        "    fsa=[]\n",
        "    for row in reader:\n",
        "        count = count+1\n",
        "        #print(row[2])\n",
        "        fsa.append(row[2])\n",
        "print(fsa[11])\n",
        "#print(fsa[3:])"
      ],
      "metadata": {
        "colab": {
          "base_uri": "https://localhost:8080/"
        },
        "id": "mZo8sDBMkuNr",
        "outputId": "13fcec73-3bed-4a77-cfd5-e5b2e9c34005"
      },
      "execution_count": null,
      "outputs": [
        {
          "output_type": "stream",
          "name": "stdout",
          "text": [
            "1685-01-5022-2193-7\n",
            "07/12/22 11:40:28 AM ASSOC:\n"
          ]
        }
      ]
    },
    {
      "cell_type": "code",
      "source": [
        "import pandas as pd\n",
        "df = pd.DataFrame({'InvoiceNo_ReceiptNo': fsa[11],\n",
        "                   'Transaction_Date': fsa[6],\n",
        "                   'invoice_subtotal': fsa[16],\n",
        "                   'SalesTaxPercent': fsa[14],\n",
        "                   'Total': fsa[13],\n",
        "                   'NumberOfItemsSold': fsa[5],\n",
        "                   'NumberOfItemsReturned': fsa[9],\n",
        "                   'CardType': fsa[12],\n",
        "                   'CardNumber': fsa[8],\n",
        "                   'AuthNo': fsa[7],\n",
        "                   'AID': fsa[1],\n",
        "                   'TenderDetails': fsa[17],\n",
        "                   'StoreID': fsa[3],\n",
        "                   'CustomerRef': ''},index=[0])\n",
        "df\n",
        "df.to_csv(\"output.csv\", index=None)\n"
      ],
      "metadata": {
        "id": "SkfrdGvMlsrB"
      },
      "execution_count": null,
      "outputs": []
    },
    {
      "cell_type": "code",
      "source": [
        "import pandas as pd\n",
        "import csv\n",
        "with open('table.csv', encoding='utf-8-sig') as csvfile:\n",
        "    reader = csv.reader(csvfile)\n",
        "    count = 0\n",
        "    fsa=[]\n",
        "    for row in reader:\n",
        "        count = count+1\n",
        "        #print(row[2])\n",
        "        fsa.append(row[2])\n",
        "print(fsa[0:])"
      ],
      "metadata": {
        "colab": {
          "base_uri": "https://localhost:8080/"
        },
        "id": "YhoLD3l8_8aV",
        "outputId": "d1d4b94a-b26e-43c5-b6ec-c04dfa9334e3"
      },
      "execution_count": 43,
      "outputs": [
        {
          "output_type": "stream",
          "name": "stdout",
          "text": [
            "[\"400248173885 VERSACE L 'HOMME 3.\", '400244460217 xGrainam 24 Blk 4W', 'Subtotal', 'Sales Tax 8.250%', 'Total', 'Sold: 2 Returned: 0', 'Visa']\n"
          ]
        }
      ]
    },
    {
      "cell_type": "code",
      "source": [
        "import pandas as pd\n",
        "import csv\n",
        "with open('table.csv', encoding='utf-8-sig') as csvfile:\n",
        "    reader = csv.reader(csvfile)\n",
        "    count = 0\n",
        "    a=[]\n",
        "    for row in reader:\n",
        "        count = count+1\n",
        "        #print(row[2])\n",
        "        a.append(row[3])\n",
        "print(a[0:])"
      ],
      "metadata": {
        "colab": {
          "base_uri": "https://localhost:8080/"
        },
        "id": "wv3ahx8TQkrS",
        "outputId": "a98d259c-b14d-439d-b7da-0eb49b1fdae0"
      },
      "execution_count": 20,
      "outputs": [
        {
          "output_type": "stream",
          "name": "stdout",
          "text": [
            "['$34.99R', '$84.99R', '$119.98', '$9.90', '$129.88', ' ', '$129.88']\n"
          ]
        }
      ]
    },
    {
      "cell_type": "code",
      "source": [
        "#programming_languages = [\"JavaScript\",\"Python\",\"Java\",\"Python\",\"C++\",\"Python\"]\n",
        "#fsa[0:]\n",
        "python_indices = []\n",
        "\n",
        "for programming_language in range(len(fsa[0:])):\n",
        "    if fsa[0:][programming_language] == \"Subtotal\":\n",
        "      python_indices.append(programming_language)\n",
        "\n",
        "print(python_indices)\n",
        "fsa[0:int(python_indices)]"
      ],
      "metadata": {
        "colab": {
          "base_uri": "https://localhost:8080/",
          "height": 219
        },
        "id": "uEVfr0WFMryh",
        "outputId": "ef535ad5-476c-44e1-8e3c-226ba07daeb0"
      },
      "execution_count": 44,
      "outputs": [
        {
          "output_type": "stream",
          "name": "stdout",
          "text": [
            "[2]\n"
          ]
        },
        {
          "output_type": "error",
          "ename": "TypeError",
          "evalue": "ignored",
          "traceback": [
            "\u001b[0;31m---------------------------------------------------------------------------\u001b[0m",
            "\u001b[0;31mTypeError\u001b[0m                                 Traceback (most recent call last)",
            "\u001b[0;32m<ipython-input-44-fdc93745a0b9>\u001b[0m in \u001b[0;36m<module>\u001b[0;34m\u001b[0m\n\u001b[1;32m      8\u001b[0m \u001b[0;34m\u001b[0m\u001b[0m\n\u001b[1;32m      9\u001b[0m \u001b[0mprint\u001b[0m\u001b[0;34m(\u001b[0m\u001b[0mpython_indices\u001b[0m\u001b[0;34m)\u001b[0m\u001b[0;34m\u001b[0m\u001b[0;34m\u001b[0m\u001b[0m\n\u001b[0;32m---> 10\u001b[0;31m \u001b[0mfsa\u001b[0m\u001b[0;34m[\u001b[0m\u001b[0;36m0\u001b[0m\u001b[0;34m:\u001b[0m\u001b[0mint\u001b[0m\u001b[0;34m(\u001b[0m\u001b[0mpython_indices\u001b[0m\u001b[0;34m)\u001b[0m\u001b[0;34m]\u001b[0m\u001b[0;34m\u001b[0m\u001b[0;34m\u001b[0m\u001b[0m\n\u001b[0m",
            "\u001b[0;31mTypeError\u001b[0m: int() argument must be a string, a bytes-like object or a number, not 'list'"
          ]
        }
      ]
    },
    {
      "cell_type": "code",
      "source": [
        "fruits = fsa[0:]\n",
        "\n",
        "x = fruits.count(\"Subtotal\")\n",
        "x+=1\n",
        "x\n",
        "type(x)"
      ],
      "metadata": {
        "colab": {
          "base_uri": "https://localhost:8080/"
        },
        "id": "jOBzI90xPWgp",
        "outputId": "171364ff-ad1e-4250-866b-b3db0e3f7916"
      },
      "execution_count": 45,
      "outputs": [
        {
          "output_type": "execute_result",
          "data": {
            "text/plain": [
              "int"
            ]
          },
          "metadata": {},
          "execution_count": 45
        }
      ]
    },
    {
      "cell_type": "code",
      "source": [
        "fsa[0:x]"
      ],
      "metadata": {
        "colab": {
          "base_uri": "https://localhost:8080/"
        },
        "id": "CZn1nVqoQOBx",
        "outputId": "198c5f1a-c569-41b4-b4d4-1ecd35cec1c6"
      },
      "execution_count": 46,
      "outputs": [
        {
          "output_type": "execute_result",
          "data": {
            "text/plain": [
              "[\"400248173885 VERSACE L 'HOMME 3.\", '400244460217 xGrainam 24 Blk 4W']"
            ]
          },
          "metadata": {},
          "execution_count": 46
        }
      ]
    },
    {
      "cell_type": "code",
      "source": [
        "a[0:x]"
      ],
      "metadata": {
        "colab": {
          "base_uri": "https://localhost:8080/"
        },
        "id": "xnFvSXAdQtxM",
        "outputId": "7a5ab849-1637-4d09-8acd-abef57028373"
      },
      "execution_count": 21,
      "outputs": [
        {
          "output_type": "execute_result",
          "data": {
            "text/plain": [
              "['$34.99R', '$84.99R']"
            ]
          },
          "metadata": {},
          "execution_count": 21
        }
      ]
    },
    {
      "cell_type": "code",
      "source": [
        "#b = []\n",
        "#s1 = int(fsa[0:x])\n",
        "#for x in s1:\n",
        "  #s = slice(12)\n",
        "  #print(x[s])\n",
        "  #b.append(x[s])\n",
        "type(fsa)"
      ],
      "metadata": {
        "colab": {
          "base_uri": "https://localhost:8080/"
        },
        "id": "Gh9qfMvuRz05",
        "outputId": "2fe2c7bd-cff4-4c15-a124-bc23c0e9d1d9"
      },
      "execution_count": 48,
      "outputs": [
        {
          "output_type": "execute_result",
          "data": {
            "text/plain": [
              "list"
            ]
          },
          "metadata": {},
          "execution_count": 48
        }
      ]
    },
    {
      "cell_type": "code",
      "source": [
        "#fsa[0:x]\n",
        "lis = fsa[0:x]\n",
        "res = [eval(i) for i in lis]\n",
        "print(\"Modified list is: \", res)\n"
      ],
      "metadata": {
        "colab": {
          "base_uri": "https://localhost:8080/",
          "height": 323
        },
        "id": "w5Ix-TecUmS0",
        "outputId": "aaca0307-35d3-4a01-a83b-b49a01d2624a"
      },
      "execution_count": 47,
      "outputs": [
        {
          "output_type": "error",
          "ename": "SyntaxError",
          "evalue": "ignored",
          "traceback": [
            "Traceback \u001b[0;36m(most recent call last)\u001b[0m:\n",
            "  File \u001b[1;32m\"/usr/local/lib/python3.7/dist-packages/IPython/core/interactiveshell.py\"\u001b[0m, line \u001b[1;32m3326\u001b[0m, in \u001b[1;35mrun_code\u001b[0m\n    exec(code_obj, self.user_global_ns, self.user_ns)\n",
            "  File \u001b[1;32m\"<ipython-input-47-604f5b4e3b78>\"\u001b[0m, line \u001b[1;32m3\u001b[0m, in \u001b[1;35m<module>\u001b[0m\n    res = [eval(i) for i in lis]\n",
            "\u001b[0;36m  File \u001b[0;32m\"<ipython-input-47-604f5b4e3b78>\"\u001b[0;36m, line \u001b[0;32m3\u001b[0;36m, in \u001b[0;35m<listcomp>\u001b[0;36m\u001b[0m\n\u001b[0;31m    res = [eval(i) for i in lis]\u001b[0m\n",
            "\u001b[0;36m  File \u001b[0;32m\"<string>\"\u001b[0;36m, line \u001b[0;32m1\u001b[0m\n\u001b[0;31m    400248173885 VERSACE L 'HOMME 3.\u001b[0m\n\u001b[0m                       ^\u001b[0m\n\u001b[0;31mSyntaxError\u001b[0m\u001b[0;31m:\u001b[0m invalid syntax\n"
          ]
        }
      ]
    }
  ]
}