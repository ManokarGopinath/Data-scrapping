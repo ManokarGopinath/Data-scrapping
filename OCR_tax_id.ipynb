{
  "nbformat": 4,
  "nbformat_minor": 0,
  "metadata": {
    "colab": {
      "provenance": [],
      "collapsed_sections": [],
      "authorship_tag": "ABX9TyOHB02iFERgbNpopgMqMVFT",
      "include_colab_link": true
    },
    "kernelspec": {
      "name": "python3",
      "display_name": "Python 3"
    },
    "language_info": {
      "name": "python"
    }
  },
  "cells": [
    {
      "cell_type": "markdown",
      "metadata": {
        "id": "view-in-github",
        "colab_type": "text"
      },
      "source": [
        "<a href=\"https://colab.research.google.com/github/ManokarGopinath/Data-scrapping/blob/main/OCR_tax_id.ipynb\" target=\"_parent\"><img src=\"https://colab.research.google.com/assets/colab-badge.svg\" alt=\"Open In Colab\"/></a>"
      ]
    },
    {
      "cell_type": "code",
      "source": [
        "!pip install img2pdf"
      ],
      "metadata": {
        "colab": {
          "base_uri": "https://localhost:8080/",
          "height": 660
        },
        "id": "ahfEFNqoiXuO",
        "outputId": "7efbaf12-6309-47d8-fa39-5c869705a4e1"
      },
      "execution_count": 1,
      "outputs": [
        {
          "output_type": "stream",
          "name": "stdout",
          "text": [
            "Looking in indexes: https://pypi.org/simple, https://us-python.pkg.dev/colab-wheels/public/simple/\n",
            "Collecting img2pdf\n",
            "  Downloading img2pdf-0.4.4.tar.gz (97 kB)\n",
            "\u001b[K     |████████████████████████████████| 97 kB 5.6 MB/s \n",
            "\u001b[?25hRequirement already satisfied: Pillow in /usr/local/lib/python3.7/dist-packages (from img2pdf) (7.1.2)\n",
            "Collecting pikepdf\n",
            "  Downloading pikepdf-6.2.2-cp37-cp37m-manylinux_2_17_x86_64.manylinux2014_x86_64.whl (2.6 MB)\n",
            "\u001b[K     |████████████████████████████████| 2.6 MB 57.1 MB/s \n",
            "\u001b[?25hCollecting Pillow\n",
            "  Downloading Pillow-9.3.0-cp37-cp37m-manylinux_2_17_x86_64.manylinux2014_x86_64.whl (3.2 MB)\n",
            "\u001b[K     |████████████████████████████████| 3.2 MB 52.5 MB/s \n",
            "\u001b[?25hRequirement already satisfied: typing-extensions>=4 in /usr/local/lib/python3.7/dist-packages (from pikepdf->img2pdf) (4.1.1)\n",
            "Requirement already satisfied: lxml>=4.8 in /usr/local/lib/python3.7/dist-packages (from pikepdf->img2pdf) (4.9.1)\n",
            "Requirement already satisfied: packaging in /usr/local/lib/python3.7/dist-packages (from pikepdf->img2pdf) (21.3)\n",
            "Collecting deprecation\n",
            "  Downloading deprecation-2.1.0-py2.py3-none-any.whl (11 kB)\n",
            "Requirement already satisfied: importlib-metadata>=4 in /usr/local/lib/python3.7/dist-packages (from pikepdf->img2pdf) (4.13.0)\n",
            "Requirement already satisfied: zipp>=0.5 in /usr/local/lib/python3.7/dist-packages (from importlib-metadata>=4->pikepdf->img2pdf) (3.10.0)\n",
            "Requirement already satisfied: pyparsing!=3.0.5,>=2.0.2 in /usr/local/lib/python3.7/dist-packages (from packaging->pikepdf->img2pdf) (3.0.9)\n",
            "Building wheels for collected packages: img2pdf\n",
            "  Building wheel for img2pdf (setup.py) ... \u001b[?25l\u001b[?25hdone\n",
            "  Created wheel for img2pdf: filename=img2pdf-0.4.4-py3-none-any.whl size=44881 sha256=255f52e209474176b5c86d678a82e8f12ee7ef396fe481b23f7c27dd61cb7ce8\n",
            "  Stored in directory: /root/.cache/pip/wheels/d2/a7/53/9983aef9861f91881984e08f376e3119bdfeeecf55bd36e585\n",
            "Successfully built img2pdf\n",
            "Installing collected packages: Pillow, deprecation, pikepdf, img2pdf\n",
            "  Attempting uninstall: Pillow\n",
            "    Found existing installation: Pillow 7.1.2\n",
            "    Uninstalling Pillow-7.1.2:\n",
            "      Successfully uninstalled Pillow-7.1.2\n",
            "Successfully installed Pillow-9.3.0 deprecation-2.1.0 img2pdf-0.4.4 pikepdf-6.2.2\n"
          ]
        },
        {
          "output_type": "display_data",
          "data": {
            "application/vnd.colab-display-data+json": {
              "pip_warning": {
                "packages": [
                  "PIL"
                ]
              }
            }
          },
          "metadata": {}
        }
      ]
    },
    {
      "cell_type": "code",
      "execution_count": 1,
      "metadata": {
        "colab": {
          "base_uri": "https://localhost:8080/"
        },
        "id": "UsZn17BHiF3o",
        "outputId": "bd42eff3-5fea-4d4f-867c-575c5db213fd"
      },
      "outputs": [
        {
          "output_type": "stream",
          "name": "stdout",
          "text": [
            "Successfully made pdf file\n"
          ]
        }
      ],
      "source": [
        "# Python3 program to convert image to pfd\n",
        "# using img2pdf library\n",
        "\n",
        "# importing necessary libraries\n",
        "import img2pdf\n",
        "from PIL import Image\n",
        "import os\n",
        "\n",
        "# storing image path\n",
        "img_path = \"sample.JPEG\"\n",
        "\n",
        "# storing pdf path\n",
        "pdf_path = \"file.pdf\"\n",
        "\n",
        "# opening image\n",
        "image = Image.open(img_path)\n",
        "\n",
        "# converting into chunks using img2pdf\n",
        "pdf_bytes = img2pdf.convert(image.filename)\n",
        "\n",
        "# opening or creating pdf file\n",
        "file = open(pdf_path, \"wb\")\n",
        "\n",
        "# writing pdf files with chunks\n",
        "file.write(pdf_bytes)\n",
        "\n",
        "# closing image file\n",
        "image.close()\n",
        "\n",
        "# closing pdf file\n",
        "file.close()\n",
        "\n",
        "# output\n",
        "print(\"Successfully made pdf file\")\n"
      ]
    },
    {
      "cell_type": "code",
      "source": [
        "import re\n",
        "inpt = 'a:b c:d e:f'\n",
        "re.findall('(\\S+):(\\S+)',inpt)"
      ],
      "metadata": {
        "colab": {
          "base_uri": "https://localhost:8080/"
        },
        "id": "zYLtvQk5tv5V",
        "outputId": "e67f474c-2892-4420-9fb2-072b1b6133ef"
      },
      "execution_count": 3,
      "outputs": [
        {
          "output_type": "execute_result",
          "data": {
            "text/plain": [
              "[('a', 'b'), ('c', 'd'), ('e', 'f')]"
            ]
          },
          "metadata": {},
          "execution_count": 3
        }
      ]
    },
    {
      "cell_type": "code",
      "source": [
        "import pandas as pd\n",
        "\n",
        "# reading the csv file\n",
        "df = pd.read_csv(\"text.csv\")\n",
        "#print(df)\n",
        "var = df['Text']\n",
        "var\n",
        "print(var)\n",
        "for x in var:\n",
        "  print(x)"
      ],
      "metadata": {
        "colab": {
          "base_uri": "https://localhost:8080/"
        },
        "id": "j7rZYjxOu6NW",
        "outputId": "d451f9eb-25ab-4c6a-b3cd-77172ddb20cd"
      },
      "execution_count": 9,
      "outputs": [
        {
          "output_type": "stream",
          "name": "stdout",
          "text": [
            "0    ['GoodPx', 'Prescription Drug', 'Savings Card'...\n",
            "1    ['Medical Claim Submission', 'Eligibility', 'B...\n",
            "2    ['Independence American', 'Short Term', 'Insur...\n",
            "3    ['DOI', 'UnitedHealthcare', 'UnitedHealthcare'...\n",
            "Name: Text, dtype: object\n",
            "['GoodPx', 'Prescription Drug', 'Savings Card', 'Save up to 80% on prescription drugs at virtually every U.S. pharmacy!', 'BIN', '003585', 'MEMBER ID', 'PCN', 'ASPROD1', 'EN6508653', 'GROUP GDX06', 'Customer Questions Call: 1-855-216-5163', 'Pharmacist Questions Call: 1-855-300-7286', 'Check goodrx.com to find the lowest prices on all FDA-approved drugs.']\n",
            "['Medical Claim Submission', 'Eligibility', 'Benefits administered by:', 'For Hospital & Surgical Pre-certification call', 'The Loomis Company', 'Medwatch: 800-432-8421', 'PO Box 13668', 'Reading, PA 19612-3668', 'EDI# CB231', 'For Premium billing inquires contact:', '866-473-6615', 'Provided through', 'Independence American Insurance Company', 'For Coverage verification and claims', 'questions contact: Claims Customer Service', 'at 866-473-6615', 'This card is not a guarantee of coverage']\n",
            "['Independence American', 'Short Term', 'Insurance Company', 'A Member of The IHC Group', 'Medical', 'Member', 'Medical Plan', 'Member: ANITHA CHANDRASEKAR', 'Effective Date: 03/01/2022', 'Coverage: Subscriber Only', 'Member ID #: 052083870', 'Plan Name: SHORT TERM MEDICAL', 'Group #: IAIC']\n",
            "['DOI', 'UnitedHealthcare', 'UnitedHealthcare', 'Golden Rule Insurance Co.', 'Choice', 'Primary Insured: CHANDRASEKAR DEVARAJULU', 'Others Covered: SHIPAA CHANDRASEKAR', 'ID #:096634640 Effective Date: 03/02/2022 Issuer:OPTUMRx', 'RxBin:610279', 'RxGroup:UGRI', 'RxPCN:9999', 'Urgent Care:$50 copay', 'RX: $25 Copay Tier 1 only', 'Effective date applies to all covered persons']\n"
          ]
        }
      ]
    },
    {
      "cell_type": "code",
      "source": [
        "import pandas as pd\n",
        "import re\n",
        "# reading the csv file\n",
        "df = pd.read_csv(\"text.csv\")\n",
        "#print(df)\n",
        "var = df['Text']\n",
        "var\n",
        "print(var)\n",
        "for x in var:\n",
        "  print(x)\n",
        "  a = re.findall('(\\S+):(\\S+)',x)\n",
        "  print(a)"
      ],
      "metadata": {
        "colab": {
          "base_uri": "https://localhost:8080/"
        },
        "id": "-glAbhSrxNAw",
        "outputId": "3c60d197-bef7-4022-91e3-7f45a0d3634f"
      },
      "execution_count": 11,
      "outputs": [
        {
          "output_type": "stream",
          "name": "stdout",
          "text": [
            "0    ['GoodPx', 'Prescription Drug', 'Savings Card'...\n",
            "1    ['Medical Claim Submission', 'Eligibility', 'B...\n",
            "2    ['Independence American', 'Short Term', 'Insur...\n",
            "3    ['DOI', 'UnitedHealthcare', 'UnitedHealthcare'...\n",
            "Name: Text, dtype: object\n",
            "['GoodPx', 'Prescription Drug', 'Savings Card', 'Save up to 80% on prescription drugs at virtually every U.S. pharmacy!', 'BIN', '003585', 'MEMBER ID', 'PCN', 'ASPROD1', 'EN6508653', 'GROUP GDX06', 'Customer Questions Call: 1-855-216-5163', 'Pharmacist Questions Call: 1-855-300-7286', 'Check goodrx.com to find the lowest prices on all FDA-approved drugs.']\n",
            "[]\n",
            "['Medical Claim Submission', 'Eligibility', 'Benefits administered by:', 'For Hospital & Surgical Pre-certification call', 'The Loomis Company', 'Medwatch: 800-432-8421', 'PO Box 13668', 'Reading, PA 19612-3668', 'EDI# CB231', 'For Premium billing inquires contact:', '866-473-6615', 'Provided through', 'Independence American Insurance Company', 'For Coverage verification and claims', 'questions contact: Claims Customer Service', 'at 866-473-6615', 'This card is not a guarantee of coverage']\n",
            "[('by', \"',\"), ('contact', \"',\")]\n",
            "['Independence American', 'Short Term', 'Insurance Company', 'A Member of The IHC Group', 'Medical', 'Member', 'Medical Plan', 'Member: ANITHA CHANDRASEKAR', 'Effective Date: 03/01/2022', 'Coverage: Subscriber Only', 'Member ID #: 052083870', 'Plan Name: SHORT TERM MEDICAL', 'Group #: IAIC']\n",
            "[]\n",
            "['DOI', 'UnitedHealthcare', 'UnitedHealthcare', 'Golden Rule Insurance Co.', 'Choice', 'Primary Insured: CHANDRASEKAR DEVARAJULU', 'Others Covered: SHIPAA CHANDRASEKAR', 'ID #:096634640 Effective Date: 03/02/2022 Issuer:OPTUMRx', 'RxBin:610279', 'RxGroup:UGRI', 'RxPCN:9999', 'Urgent Care:$50 copay', 'RX: $25 Copay Tier 1 only', 'Effective date applies to all covered persons']\n",
            "[('#', '096634640'), ('Issuer', \"OPTUMRx',\"), (\"'RxBin\", \"610279',\"), (\"'RxGroup\", \"UGRI',\"), (\"'RxPCN\", \"9999',\"), ('Care', '$50')]\n"
          ]
        }
      ]
    }
  ]
}