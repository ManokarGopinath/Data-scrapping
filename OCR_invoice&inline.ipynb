{
  "nbformat": 4,
  "nbformat_minor": 0,
  "metadata": {
    "colab": {
      "provenance": [],
      "collapsed_sections": [],
      "authorship_tag": "ABX9TyPMBOcfXwks15mqnenAnzn8",
      "include_colab_link": true
    },
    "kernelspec": {
      "name": "python3",
      "display_name": "Python 3"
    },
    "language_info": {
      "name": "python"
    }
  },
  "cells": [
    {
      "cell_type": "markdown",
      "metadata": {
        "id": "view-in-github",
        "colab_type": "text"
      },
      "source": [
        "<a href=\"https://colab.research.google.com/github/ManokarGopinath/Data-scrapping/blob/main/OCR_invoice%26inline.ipynb\" target=\"_parent\"><img src=\"https://colab.research.google.com/assets/colab-badge.svg\" alt=\"Open In Colab\"/></a>"
      ]
    },
    {
      "cell_type": "markdown",
      "source": [
        "**Invoice**"
      ],
      "metadata": {
        "id": "sR_Zzc8XiGu1"
      }
    },
    {
      "cell_type": "code",
      "source": [
        "# reading by columns and getting output as list\n",
        "import pandas as pd\n",
        "import csv\n",
        "with open('key_value.csv', encoding='utf-8-sig') as csvfile:\n",
        "    reader = csv.reader(csvfile)\n",
        "    count = 0\n",
        "    fsa=[]\n",
        "    for row in reader:\n",
        "        count = count+1\n",
        "        #print(row[2])\n",
        "        fsa.append(row[2])\n",
        "print(fsa[0:])\n",
        "#print(fsa[3:])\n",
        "\n",
        "df = pd.DataFrame({'Invoice_id': '',\n",
        "                   'InvoiceNo_ReceiptNo': fsa[11],\n",
        "                   'User_id_FK': '',\n",
        "                   'CustomerRef': '',\n",
        "                   'Transaction_Date': fsa[6],\n",
        "                   'TermsRef': '',\n",
        "                   'SalesRepRef_AssociateID': '',\n",
        "                   'Memo': '',\n",
        "                   'DueDate': '',\n",
        "                   'BillContact': '',\n",
        "                   'BillAddress1': '',\n",
        "                   'BillAddress2': '',\n",
        "                   'BillCity': '',\n",
        "                   'BillState': '',\n",
        "                   'BillPostalCode': '',\n",
        "                   'BillCountry': '',\n",
        "                   'ShipContact': '',\n",
        "                   'ShipAddress1': '',\n",
        "                   'ShipAddress2': '',\n",
        "                   'ShipCity': '',\n",
        "                   'ShipState': '',\n",
        "                   'ShipPostalCode': '',\n",
        "                   'ShipCountry': '',\n",
        "                   'QB_TranscationID': '',\n",
        "                   'Store_name': '',\n",
        "                   'Storeaddress': '',\n",
        "                   'storesuite': '',\n",
        "                   'storecity': '',\n",
        "                   'storestate': '',\n",
        "                   'storezipcode': '',\n",
        "                   'storephone': '',\n",
        "                   'invoice_subtotal': fsa[16],\n",
        "                   'SalesTaxPercent': fsa[14],\n",
        "                   'Salestas': '',\n",
        "                   'Total': fsa[13],\n",
        "                   'NumberOfItemsSold': fsa[5],\n",
        "                   'NumberOfItemsReturned': fsa[9],\n",
        "                   'CardType': fsa[12],\n",
        "                   'CardNumber': fsa[8],\n",
        "                   'AuthNo': fsa[7],\n",
        "                   'AID': fsa[1],\n",
        "                   'TenderDetails': fsa[17],\n",
        "                   'Barcode': '',\n",
        "                   'StoreID': fsa[3],\n",
        "                   'Website': ''},index=[0])\n",
        "df\n",
        "df.to_csv(\"invoice.csv\", index=None)"
      ],
      "metadata": {
        "colab": {
          "base_uri": "https://localhost:8080/"
        },
        "id": "2hRdlKa_iVYg",
        "outputId": "9f4975c6-a877-4191-c15d-579675fd9c74"
      },
      "execution_count": null,
      "outputs": [
        {
          "output_type": "stream",
          "name": "stdout",
          "text": [
            "['Values', 'A0000000031010', '5022', '1685', '01', '2', '07/12/22 11:40:28 AM ASSOC:', '08912D', 'XXXXXXXXXXXX2868 <I>', '0', '1685-01-5022-2193-7', '1685-01-5022-2193-7', 'CREDIT', '$129.88', '$9.90', 'VALUE_NOT_FOUND', '$119.98', 'Detail #:1-01 2.09 012988']\n"
          ]
        }
      ]
    },
    {
      "cell_type": "markdown",
      "source": [
        "**Invoice_Inline**"
      ],
      "metadata": {
        "id": "z3lF-NXXk2TF"
      }
    },
    {
      "cell_type": "code",
      "source": [
        "import pandas as pd\n",
        "import csv\n",
        "with open('table.csv', encoding='utf-8-sig') as csvfile:\n",
        "    reader = csv.reader(csvfile)\n",
        "    count = 0\n",
        "    fsa=[]\n",
        "    a=[]\n",
        "    for row in reader:\n",
        "        count = count+1\n",
        "        #print(row[2])\n",
        "        fsa.append(row[2])\n",
        "        a.append(row[3])\n",
        "print(fsa[0:])\n",
        "print(a[0:])\n",
        "\n",
        "fruits = fsa[0:]\n",
        "\n",
        "x = fruits.count(\"Subtotal\")\n",
        "x+=1\n",
        "x\n",
        "type(x)\n",
        "\n",
        "fsa[0:x]\n",
        "a[0:x]\n",
        "\n",
        "df = pd.DataFrame({'Line_ItemName': fsa[0:x],\n",
        "                  'Subtotal': a[0:x]})\n",
        "df\n",
        "df.to_csv(\"output.csv\", index=None)"
      ],
      "metadata": {
        "colab": {
          "base_uri": "https://localhost:8080/"
        },
        "id": "s-9v2JaGk-nU",
        "outputId": "df2dd11c-820d-4831-8e72-3b58881e9aa9"
      },
      "execution_count": null,
      "outputs": [
        {
          "output_type": "stream",
          "name": "stdout",
          "text": [
            "[\"400248173885 VERSACE L 'HOMME 3.\", '400244460217 xGrainam 24 Blk 4W', 'Subtotal', 'Sales Tax 8.250%', 'Total', 'Sold: 2 Returned: 0', 'Visa']\n",
            "['$34.99R', '$84.99R', '$119.98', '$9.90', '$129.88', ' ', '$129.88']\n"
          ]
        }
      ]
    },
    {
      "cell_type": "code",
      "source": [
        "import pandas as pd\n",
        "import csv\n",
        "with open('output.csv', encoding='utf-8-sig') as csvfile:\n",
        "    reader = csv.reader(csvfile)\n",
        "    count = 0\n",
        "    a=[]\n",
        "    b=[]\n",
        "    for row in reader:\n",
        "        count = count+1\n",
        "        #print(row[2])\n",
        "        a.append(row[0])\n",
        "        b.append(row[1])\n",
        "print(a[1:])\n",
        "print(b[1:])\n",
        "\n",
        "for x in a:\n",
        "  s = slice(12)\n",
        "  print(x[s])\n",
        "\n",
        "df = pd.read_csv(\"output.csv\")\n",
        "#print(df)\n",
        "var = df['Line_ItemName'].tolist()\n",
        "var\n",
        "h = []\n",
        "for x in var:\n",
        "  s = slice(12)\n",
        "  print(x[s])\n",
        "  h.append(x[s])\n",
        "print(h)\n",
        "\n",
        "df = pd.read_csv(\"output.csv\")\n",
        "#print(df)\n",
        "var = df['Line_ItemName'].tolist()\n",
        "var\n",
        "d = []\n",
        "for x in var:\n",
        "  s1 = x.split()\n",
        "  print(s1)\n",
        "  m = ' '.join(s1[1:])\n",
        "  d.append(m)\n",
        "print(m)\n",
        "print(d)\n",
        "\n",
        "df = pd.read_csv(\"output.csv\")\n",
        "#print(df)\n",
        "var = df['Subtotal'].tolist()\n",
        "var\n",
        "g = []\n",
        "for x in var:\n",
        "  s = slice(6)\n",
        "  print(x[s][1:])\n",
        "  g.append(x[s][1:])\n",
        "print(g)\n",
        "\n",
        "df = pd.read_csv(\"output.csv\")\n",
        "#print(df)\n",
        "var = df['Subtotal'].tolist()\n",
        "var[0][2:]\n",
        "f = []\n",
        "for x in var:\n",
        "  c = var[0][1:]\n",
        "  e = var[0][-1]\n",
        "  print(c)\n",
        "  print(e)\n",
        "  f.append(e)\n",
        "print(f)\n",
        "\n",
        "df = pd.DataFrame({'Invoice_Line_Id (Primarykey and Auto increment)': '',\n",
        "                   'Line_Invoice_Id_FK': '',\n",
        "                   'User_id_FK': '',\n",
        "                   'Line_ItemName': (h),\n",
        "                   'Line_ItemDesc': (d),\n",
        "                   'Line_UOM': '',\n",
        "                   'Line_ItemQuantity': '',\n",
        "                   'Line_ItemRate': (g),\n",
        "                   'line_item_amount': (g),\n",
        "                   'line_item_Taxable': (f),\n",
        "                   'line_item_return': ''})\n",
        "df\n",
        "df.to_csv(\"invoice_inline.csv\", index=None)"
      ],
      "metadata": {
        "colab": {
          "base_uri": "https://localhost:8080/"
        },
        "id": "bY7oeAHUnbeO",
        "outputId": "ca1bcb99-b48c-4781-9568-58c37e46786f"
      },
      "execution_count": null,
      "outputs": [
        {
          "output_type": "stream",
          "name": "stdout",
          "text": [
            "[\"400248173885 VERSACE L 'HOMME 3.\", '400244460217 xGrainam 24 Blk 4W']\n",
            "['$34.99R', '$84.99R']\n",
            "Line_ItemNam\n",
            "400248173885\n",
            "400244460217\n",
            "400248173885\n",
            "400244460217\n",
            "['400248173885', '400244460217']\n",
            "['400248173885', 'VERSACE', 'L', \"'HOMME\", '3.']\n",
            "['400244460217', 'xGrainam', '24', 'Blk', '4W']\n",
            "xGrainam 24 Blk 4W\n",
            "[\"VERSACE L 'HOMME 3.\", 'xGrainam 24 Blk 4W']\n",
            "34.99\n",
            "84.99\n",
            "['34.99', '84.99']\n",
            "34.99R\n",
            "R\n",
            "34.99R\n",
            "R\n",
            "['R', 'R']\n"
          ]
        }
      ]
    },
    {
      "cell_type": "markdown",
      "source": [
        "**Referance**"
      ],
      "metadata": {
        "id": "k1bUxorftFRq"
      }
    },
    {
      "cell_type": "code",
      "source": [
        "# Load pandas\n",
        "import pandas as pd\n",
        "\n",
        "# Read CSV file into DataFrame df\n",
        "df = pd.read_csv('table.csv', index_col=0)\n",
        "\n",
        "# Show dataframe\n",
        "print(df)"
      ],
      "metadata": {
        "colab": {
          "base_uri": "https://localhost:8080/"
        },
        "id": "8rVdfyTnHY5f",
        "outputId": "101709f5-8888-4032-a4f5-81df5a0fcb2e"
      },
      "execution_count": null,
      "outputs": [
        {
          "output_type": "stream",
          "name": "stdout",
          "text": [
            "  400248173885 VERSACE L 'HOMME 3.  $34.99R\n",
            "1  400244460217 xGrainam 24 Blk 4W  $84.99R\n",
            "2                         Subtotal  $119.98\n",
            "3                 Sales Tax 8.250%    $9.90\n",
            "4                            Total  $129.88\n",
            "5              Sold: 2 Returned: 0         \n",
            "6                             Visa  $129.88\n"
          ]
        }
      ]
    },
    {
      "cell_type": "code",
      "source": [
        "import pandas as pd\n",
        "\n",
        "dataset = pd.read_csv('table.csv')\n",
        "ftCol = dataset.iloc[:, 1].values\n",
        "ftCol\n",
        "print(ftCol)\n"
      ],
      "metadata": {
        "colab": {
          "base_uri": "https://localhost:8080/"
        },
        "id": "_7rhGZSdJtEf",
        "outputId": "ed8ed4cf-ed68-4934-df0b-17f878414ec3"
      },
      "execution_count": null,
      "outputs": [
        {
          "output_type": "stream",
          "name": "stdout",
          "text": [
            "['400244460217 xGrainam 24 Blk 4W' 'Subtotal' 'Sales Tax 8.250%' 'Total'\n",
            " 'Sold: 2 Returned: 0' 'Visa']\n"
          ]
        }
      ]
    },
    {
      "cell_type": "code",
      "source": [
        "import pandas as pd\n",
        "\n",
        "dataset = pd.read_csv('table.csv')\n",
        "ftCol = dataset.iloc[:, 1].values\n",
        "ftCol\n",
        "print(ftCol[0])"
      ],
      "metadata": {
        "colab": {
          "base_uri": "https://localhost:8080/"
        },
        "id": "CeHUlHtuKmqe",
        "outputId": "b2190edd-85cb-4276-a3fc-0ba913bdeb9d"
      },
      "execution_count": null,
      "outputs": [
        {
          "output_type": "stream",
          "name": "stdout",
          "text": [
            "400244460217 xGrainam 24 Blk 4W\n"
          ]
        }
      ]
    },
    {
      "cell_type": "code",
      "source": [
        "# Python program to demonstrate\n",
        "# string slicing\n",
        "\n",
        "# String slicing\n",
        "String = 'ASTRING'\n",
        "\n",
        "# Using slice constructor\n",
        "s1 = slice(3)\n",
        "s2 = slice(1, 5, 2)\n",
        "s3 = slice(-1, -12, -2)\n",
        "\n",
        "print(String[s1])\n",
        "print(String[s2])\n",
        "print(String[s3])\n"
      ],
      "metadata": {
        "colab": {
          "base_uri": "https://localhost:8080/"
        },
        "id": "H_TrZxwcLm0M",
        "outputId": "190f1978-36b4-4dd2-af09-36ecded2dd8d"
      },
      "execution_count": null,
      "outputs": [
        {
          "output_type": "stream",
          "name": "stdout",
          "text": [
            "AST\n",
            "SR\n",
            "GITA\n"
          ]
        }
      ]
    },
    {
      "cell_type": "code",
      "source": [
        "import pandas as pd\n",
        "\n",
        "dataset = pd.read_csv('table.csv')\n",
        "ftCol = dataset.iloc[:, 1].values\n",
        "ftCol\n",
        "s1 = ftCol[1]\n",
        "s = slice(12)\n",
        "print(s1[s])"
      ],
      "metadata": {
        "colab": {
          "base_uri": "https://localhost:8080/"
        },
        "id": "FiqEpKaOL6RY",
        "outputId": "f12513b2-c748-4839-ec3f-cb6de6019433"
      },
      "execution_count": null,
      "outputs": [
        {
          "output_type": "stream",
          "name": "stdout",
          "text": [
            "Subtotal\n"
          ]
        }
      ]
    },
    {
      "cell_type": "code",
      "source": [
        "import pandas as pd\n",
        "\n",
        "dataset = pd.read_csv('table.csv')\n",
        "ftCol = dataset.iloc[:, 2].values\n",
        "ftCol\n",
        "s1 = ftCol[0].split()\n",
        "#s = slice(12)\n",
        "#print(s1[s])\n",
        "#print(s1[1:])\n",
        "m = ' '.join(s1[1:])\n",
        "print(m)"
      ],
      "metadata": {
        "colab": {
          "base_uri": "https://localhost:8080/"
        },
        "id": "HEvju9JlNxXt",
        "outputId": "02cd877e-12c6-46bc-a234-a8a9769d9c6f"
      },
      "execution_count": null,
      "outputs": [
        {
          "output_type": "stream",
          "name": "stdout",
          "text": [
            "xGrainam 24 Blk 4W\n"
          ]
        }
      ]
    },
    {
      "cell_type": "code",
      "source": [
        "# reading by columns and getting output as list\n",
        "import pandas as pd\n",
        "import csv\n",
        "with open('table.csv', encoding='utf-8-sig') as csvfile:\n",
        "    reader = csv.reader(csvfile)\n",
        "    count = 0\n",
        "    fsa=[]\n",
        "    for row in reader:\n",
        "        count = count+1\n",
        "        #print(row[2])\n",
        "        fsa.append(row[2])\n",
        "print(fsa[0:])\n",
        "print(fsa[3:])\n",
        "s1 = fsa[1]\n",
        "s = slice(12)\n",
        "print(s1[s])"
      ],
      "metadata": {
        "colab": {
          "base_uri": "https://localhost:8080/"
        },
        "id": "BfeIZjz_R0AD",
        "outputId": "3b1a020b-eec8-4d73-c23c-615171aff77a"
      },
      "execution_count": null,
      "outputs": [
        {
          "output_type": "stream",
          "name": "stdout",
          "text": [
            "[\"400248173885 VERSACE L 'HOMME 3.\", '400244460217 xGrainam 24 Blk 4W', 'Subtotal', 'Sales Tax 8.250%', 'Total', 'Sold: 2 Returned: 0', 'Visa']\n",
            "['Sales Tax 8.250%', 'Total', 'Sold: 2 Returned: 0', 'Visa']\n",
            "400244460217\n"
          ]
        }
      ]
    },
    {
      "cell_type": "code",
      "source": [
        "# reading by columns and getting output as list\n",
        "import pandas as pd\n",
        "import csv\n",
        "with open('table.csv', encoding='utf-8-sig') as csvfile:\n",
        "    reader = csv.reader(csvfile)\n",
        "    count = 0\n",
        "    fsa=[]\n",
        "    for row in reader:\n",
        "        count = count+1\n",
        "        #print(row[2])\n",
        "        fsa.append(row[2])\n",
        "#print(fsa[0:])\n",
        "#print(fsa[3:])\n",
        "s1 = fsa[1].split()\n",
        "#s = slice(12)\n",
        "#print(s1[s])\n",
        "#print(s1[1:])\n",
        "m = ' '.join(s1[1:])\n",
        "print(m)"
      ],
      "metadata": {
        "colab": {
          "base_uri": "https://localhost:8080/"
        },
        "id": "Ii8X0XO9R5_P",
        "outputId": "e6052b4d-599c-4ee4-f746-82a82cc98d5d"
      },
      "execution_count": null,
      "outputs": [
        {
          "output_type": "stream",
          "name": "stdout",
          "text": [
            "xGrainam 24 Blk 4W\n"
          ]
        }
      ]
    },
    {
      "cell_type": "code",
      "source": [
        " [\"foo\", \"bar\", \"baz\"].index(\"bar\")"
      ],
      "metadata": {
        "colab": {
          "base_uri": "https://localhost:8080/"
        },
        "id": "HliMjCH9UjJf",
        "outputId": "9f197e65-4470-4207-acde-6af99472c44e"
      },
      "execution_count": null,
      "outputs": [
        {
          "output_type": "execute_result",
          "data": {
            "text/plain": [
              "1"
            ]
          },
          "metadata": {},
          "execution_count": 1
        }
      ]
    },
    {
      "cell_type": "code",
      "source": [
        "for i, j in enumerate(['foo', 'bar', 'baz']):\n",
        "  if j == 'bar':\n",
        "    print(i)"
      ],
      "metadata": {
        "colab": {
          "base_uri": "https://localhost:8080/"
        },
        "id": "ivD4aPD-Uru_",
        "outputId": "8b4a15b5-5687-4be4-f698-fd428db42396"
      },
      "execution_count": null,
      "outputs": [
        {
          "output_type": "stream",
          "name": "stdout",
          "text": [
            "1\n"
          ]
        }
      ]
    },
    {
      "cell_type": "code",
      "source": [
        "import pandas as pd\n",
        "import csv\n",
        "with open('text.csv', encoding='utf-8-sig') as csvfile:\n",
        "    reader = csv.reader(csvfile)\n",
        "    count = 0\n",
        "    fsa=[]\n",
        "    a=[]\n",
        "    for row in reader:\n",
        "        count = count+1\n",
        "        #print(row[2])\n",
        "        fsa.append(row[1])\n",
        "        a.append(row[2])\n",
        "print(fsa[0:])\n",
        "print(a[1:][0])"
      ],
      "metadata": {
        "colab": {
          "base_uri": "https://localhost:8080/"
        },
        "id": "0Xzl57X-VLFZ",
        "outputId": "5ac72946-0c9d-4ee9-d030-0e1bff67434b"
      },
      "execution_count": null,
      "outputs": [
        {
          "output_type": "stream",
          "name": "stdout",
          "text": [
            "['PageNo', 'page_1', 'page_2']\n",
            "['HomeGoods', 'THE VILLAGE @ CINCO RANCH', '23518 WESTHEIMER PARKWAY', 'KATY, TX 77494', 'United States', '281-574-1720', 'REGULAR SALE', '41 - KITCHEN/ACCESS 392204', '$7.99 T', '41 - KITCHEN/ACCESS 403389', '$5.99 T', '41 - KITCHEN/ACCESS 408621', '$7.99 T', '41 - KITCHEN/ACCESS 408621', '$7.99 T', '36 - TOWELS', '096504', '$8.99 T', '36 - TOWELS', '096504', '$8.99 T', '36 - TOWELS', '096508', '$12.99 T', '56 - Q LINE', '012004', '$4.99 T', '31 - DINNERWARE/CER 538462', '$12.99 T', '31 - DINNERWARE/CER 538459', '$12.99 T', 'Subtotal', '$91.90', 'TX 8.250% Sales Tax', '$7.58', 'Total', '$99.48', 'Gift Card', '$81.17', '9526', 'Entry Method: Swiped', 'Balance: $0.00', 'VISA', '$18.31', 'TRANSACTION RECORD', '2876', 'PURCHASE', 'EXPIRES **/** CHIP', 'AUTH# 94639D', 'AID A0000000031010', 'APPLICATION LABEL VISA CREDIT', 'Signature Captured', '000527', '00200061', '20:23:32', 'APPROVED', 'Change', '$0.00', 'HomeGoods VALUES YOUR FEEDBACK! ! !', 'Tell us what you think about', 'your store visit today and', 'enter a monthly drawing to win a', '$500 HomeGoods Gift Card!', 'Visit www.HOMEGOODSFEEDBACK.com', 'Respond by 9/21/22']\n"
          ]
        }
      ]
    },
    {
      "cell_type": "code",
      "source": [
        "a[1:][0].index(\"Subtotal\")"
      ],
      "metadata": {
        "colab": {
          "base_uri": "https://localhost:8080/",
          "height": 172
        },
        "id": "4AYDOT-7VyoI",
        "outputId": "4fbcbc99-735f-4457-aa33-e8cdc280629c"
      },
      "execution_count": null,
      "outputs": [
        {
          "output_type": "error",
          "ename": "ValueError",
          "evalue": "ignored",
          "traceback": [
            "\u001b[0;31m---------------------------------------------------------------------------\u001b[0m",
            "\u001b[0;31mValueError\u001b[0m                                Traceback (most recent call last)",
            "\u001b[0;32m<ipython-input-27-ba4f1f64b330>\u001b[0m in \u001b[0;36m<module>\u001b[0;34m\u001b[0m\n\u001b[0;32m----> 1\u001b[0;31m \u001b[0ma\u001b[0m\u001b[0;34m[\u001b[0m\u001b[0;36m1\u001b[0m\u001b[0;34m:\u001b[0m\u001b[0;34m]\u001b[0m\u001b[0;34m[\u001b[0m\u001b[0;36m0\u001b[0m\u001b[0;34m]\u001b[0m\u001b[0;34m.\u001b[0m\u001b[0mindex\u001b[0m\u001b[0;34m(\u001b[0m\u001b[0;34m\"REGULAR SALE\"\u001b[0m\u001b[0;34m)\u001b[0m\u001b[0;34m\u001b[0m\u001b[0;34m\u001b[0m\u001b[0m\n\u001b[0m",
            "\u001b[0;31mValueError\u001b[0m: substring not found"
          ]
        }
      ]
    },
    {
      "cell_type": "code",
      "source": [
        "a[1:][0].index(\"41 - KITCHEN/ACCESS\")"
      ],
      "metadata": {
        "colab": {
          "base_uri": "https://localhost:8080/"
        },
        "id": "zs-Uu0SacxAP",
        "outputId": "e9d1f0c7-5859-4549-e83d-f19966bc0e6a"
      },
      "execution_count": null,
      "outputs": [
        {
          "output_type": "execute_result",
          "data": {
            "text/plain": [
              "139"
            ]
          },
          "metadata": {},
          "execution_count": 35
        }
      ]
    },
    {
      "cell_type": "code",
      "source": [
        "a[1:][0][139:532]"
      ],
      "metadata": {
        "colab": {
          "base_uri": "https://localhost:8080/",
          "height": 73
        },
        "id": "W01HKWuVdNsT",
        "outputId": "dadf138f-1465-4425-d129-946fae6e6139"
      },
      "execution_count": null,
      "outputs": [
        {
          "output_type": "execute_result",
          "data": {
            "text/plain": [
              "\"41 - KITCHEN/ACCESS 392204', '$7.99 T', '41 - KITCHEN/ACCESS 403389', '$5.99 T', '41 - KITCHEN/ACCESS 408621', '$7.99 T', '41 - KITCHEN/ACCESS 408621', '$7.99 T', '36 - TOWELS', '096504', '$8.99 T', '36 - TOWELS', '096504', '$8.99 T', '36 - TOWELS', '096508', '$12.99 T', '56 - Q LINE', '012004', '$4.99 T', '31 - DINNERWARE/CER 538462', '$12.99 T', '31 - DINNERWARE/CER 538459', '$12.99 T', '\""
            ],
            "application/vnd.google.colaboratory.intrinsic+json": {
              "type": "string"
            }
          },
          "metadata": {},
          "execution_count": 36
        }
      ]
    },
    {
      "cell_type": "code",
      "source": [
        "a[1:][0][0:139]"
      ],
      "metadata": {
        "colab": {
          "base_uri": "https://localhost:8080/",
          "height": 36
        },
        "id": "a11uLCyWdwgO",
        "outputId": "27b0c59f-cef9-4d16-9f43-107a736fa41c"
      },
      "execution_count": null,
      "outputs": [
        {
          "output_type": "execute_result",
          "data": {
            "text/plain": [
              "'403389'"
            ],
            "application/vnd.google.colaboratory.intrinsic+json": {
              "type": "string"
            }
          },
          "metadata": {},
          "execution_count": 25
        }
      ]
    },
    {
      "cell_type": "markdown",
      "source": [
        "**List format**"
      ],
      "metadata": {
        "id": "VJ5wHmDx-3Lj"
      }
    },
    {
      "cell_type": "code",
      "source": [
        "import pandas as pd\n",
        "import csv\n",
        "with open('text.csv', encoding='utf-8-sig') as csvfile:\n",
        "    reader = csv.reader(csvfile)\n",
        "    count = 0\n",
        "    fsa=[]\n",
        "    a=[]\n",
        "    for row in reader:\n",
        "        count = count+1\n",
        "        #print(row[2])\n",
        "        fsa.append(row[1:])\n",
        "        a.append(row[2])\n",
        "print(fsa[0:])\n",
        "print(a[1:][0])"
      ],
      "metadata": {
        "colab": {
          "base_uri": "https://localhost:8080/"
        },
        "id": "mAENyRuqeFb9",
        "outputId": "e5e5378a-86ee-4cbf-c023-173b029cfd29"
      },
      "execution_count": null,
      "outputs": [
        {
          "output_type": "stream",
          "name": "stdout",
          "text": [
            "[['PageNo', 'Text'], ['page_1', \"['HomeGoods', 'THE VILLAGE @ CINCO RANCH', '23518 WESTHEIMER PARKWAY', 'KATY, TX 77494', 'United States', '281-574-1720', 'REGULAR SALE', '41 - KITCHEN/ACCESS 392204', '$7.99 T', '41 - KITCHEN/ACCESS 403389', '$5.99 T', '41 - KITCHEN/ACCESS 408621', '$7.99 T', '41 - KITCHEN/ACCESS 408621', '$7.99 T', '36 - TOWELS', '096504', '$8.99 T', '36 - TOWELS', '096504', '$8.99 T', '36 - TOWELS', '096508', '$12.99 T', '56 - Q LINE', '012004', '$4.99 T', '31 - DINNERWARE/CER 538462', '$12.99 T', '31 - DINNERWARE/CER 538459', '$12.99 T', 'Subtotal', '$91.90', 'TX 8.250% Sales Tax', '$7.58', 'Total', '$99.48', 'Gift Card', '$81.17', '9526', 'Entry Method: Swiped', 'Balance: $0.00', 'VISA', '$18.31', 'TRANSACTION RECORD', '2876', 'PURCHASE', 'EXPIRES **/** CHIP', 'AUTH# 94639D', 'AID A0000000031010', 'APPLICATION LABEL VISA CREDIT', 'Signature Captured', '000527', '00200061', '20:23:32', 'APPROVED', 'Change', '$0.00', 'HomeGoods VALUES YOUR FEEDBACK! ! !', 'Tell us what you think about', 'your store visit today and', 'enter a monthly drawing to win a', '$500 HomeGoods Gift Card!', 'Visit www.HOMEGOODSFEEDBACK.com', 'Respond by 9/21/22']\"], ['page_2', \"['HomeGoods', 'GRAND MORTON TOWN CENTER', '2732 WEST GRAND PKWY N', 'KATY, TX 77449', 'United States', '281-665-4300', 'REGULAR SALE', '35- CANDLES', '252897', '$15.00 T', 'Subtotal', '$15.00', 'TX 8.250% Sales Tax', '$1.24', 'Total', '$16.24', 'Gift Card', '$16.24', '9526', 'Entry Method: Swiped', 'Balance: $81.17', 'Change', '$0.00', 'HOMEGOODS VALUES YOUR FEEDBACK!!!!', 'Tell us what you think about', 'your store visit today and', 'enter a monthly drawing to win a', '$500 HomeGoods Gift Card!', 'Visit www.HOHEGOODSFEEDBACK.com', 'Respond by 9/11/22', 'You will need to reference', 'your receipt', 'Survey number: 1011026519', 'SEE WEBSITE FOR COMPLETE RULES', 'Sold Item Count = 1', '01131KYN611411ELP4AWR4Q', '281011 2 6519 08/28/2022 18:56:03', '1053', 'Customer Copy', 'THANK YOU FOR SHOPPING AT HOMEGOODS']\"]]\n",
            "['HomeGoods', 'THE VILLAGE @ CINCO RANCH', '23518 WESTHEIMER PARKWAY', 'KATY, TX 77494', 'United States', '281-574-1720', 'REGULAR SALE', '41 - KITCHEN/ACCESS 392204', '$7.99 T', '41 - KITCHEN/ACCESS 403389', '$5.99 T', '41 - KITCHEN/ACCESS 408621', '$7.99 T', '41 - KITCHEN/ACCESS 408621', '$7.99 T', '36 - TOWELS', '096504', '$8.99 T', '36 - TOWELS', '096504', '$8.99 T', '36 - TOWELS', '096508', '$12.99 T', '56 - Q LINE', '012004', '$4.99 T', '31 - DINNERWARE/CER 538462', '$12.99 T', '31 - DINNERWARE/CER 538459', '$12.99 T', 'Subtotal', '$91.90', 'TX 8.250% Sales Tax', '$7.58', 'Total', '$99.48', 'Gift Card', '$81.17', '9526', 'Entry Method: Swiped', 'Balance: $0.00', 'VISA', '$18.31', 'TRANSACTION RECORD', '2876', 'PURCHASE', 'EXPIRES **/** CHIP', 'AUTH# 94639D', 'AID A0000000031010', 'APPLICATION LABEL VISA CREDIT', 'Signature Captured', '000527', '00200061', '20:23:32', 'APPROVED', 'Change', '$0.00', 'HomeGoods VALUES YOUR FEEDBACK! ! !', 'Tell us what you think about', 'your store visit today and', 'enter a monthly drawing to win a', '$500 HomeGoods Gift Card!', 'Visit www.HOMEGOODSFEEDBACK.com', 'Respond by 9/21/22']\n"
          ]
        }
      ]
    },
    {
      "cell_type": "code",
      "source": [
        "#a[1:][0].index(\"SALE\")\n",
        "c = a[1:][0].index(\"'REGULAR SALE\")\n",
        "print(a[1:][0][0:c]+']')"
      ],
      "metadata": {
        "id": "y_auHVwKfaCX",
        "colab": {
          "base_uri": "https://localhost:8080/"
        },
        "outputId": "96b28c71-b6ef-41a4-d509-55d61b1e18b9"
      },
      "execution_count": null,
      "outputs": [
        {
          "output_type": "stream",
          "name": "stdout",
          "text": [
            "['HomeGoods', 'THE VILLAGE @ CINCO RANCH', '23518 WESTHEIMER PARKWAY', 'KATY, TX 77494', 'United States', '281-574-1720', ]\n"
          ]
        }
      ]
    },
    {
      "cell_type": "code",
      "source": [
        "a[1:][0][0:131]"
      ],
      "metadata": {
        "colab": {
          "base_uri": "https://localhost:8080/",
          "height": 36
        },
        "id": "-GIYg_Ra4Apx",
        "outputId": "e805554a-5303-4c2a-fad1-d62f98d6444b"
      },
      "execution_count": null,
      "outputs": [
        {
          "output_type": "execute_result",
          "data": {
            "text/plain": [
              "\"['HomeGoods', 'THE VILLAGE @ CINCO RANCH', '23518 WESTHEIMER PARKWAY', 'KATY, TX 77494', 'United States', '281-574-1720', 'REGULAR \""
            ],
            "application/vnd.google.colaboratory.intrinsic+json": {
              "type": "string"
            }
          },
          "metadata": {},
          "execution_count": 8
        }
      ]
    },
    {
      "cell_type": "code",
      "source": [
        "a[1:][0][131:532]"
      ],
      "metadata": {
        "colab": {
          "base_uri": "https://localhost:8080/",
          "height": 73
        },
        "id": "s5VP6K8n355z",
        "outputId": "f032708d-99b1-483e-c848-bb1487267b56"
      },
      "execution_count": null,
      "outputs": [
        {
          "output_type": "execute_result",
          "data": {
            "text/plain": [
              "\"SALE', '41 - KITCHEN/ACCESS 392204', '$7.99 T', '41 - KITCHEN/ACCESS 403389', '$5.99 T', '41 - KITCHEN/ACCESS 408621', '$7.99 T', '41 - KITCHEN/ACCESS 408621', '$7.99 T', '36 - TOWELS', '096504', '$8.99 T', '36 - TOWELS', '096504', '$8.99 T', '36 - TOWELS', '096508', '$12.99 T', '56 - Q LINE', '012004', '$4.99 T', '31 - DINNERWARE/CER 538462', '$12.99 T', '31 - DINNERWARE/CER 538459', '$12.99 T', '\""
            ],
            "application/vnd.google.colaboratory.intrinsic+json": {
              "type": "string"
            }
          },
          "metadata": {},
          "execution_count": 7
        }
      ]
    },
    {
      "cell_type": "code",
      "source": [
        "a[1:][0].index(\"Subtotal\")"
      ],
      "metadata": {
        "id": "H82h3f3G3mYp"
      },
      "execution_count": null,
      "outputs": []
    },
    {
      "cell_type": "code",
      "source": [
        "a[1:][0][532:]"
      ],
      "metadata": {
        "colab": {
          "base_uri": "https://localhost:8080/",
          "height": 91
        },
        "id": "rcC-HUMnWlpp",
        "outputId": "97f684d9-5040-4b7e-f0e0-383c5d2cdd24"
      },
      "execution_count": null,
      "outputs": [
        {
          "output_type": "execute_result",
          "data": {
            "text/plain": [
              "\"Subtotal', '$91.90', 'TX 8.250% Sales Tax', '$7.58', 'Total', '$99.48', 'Gift Card', '$81.17', '9526', 'Entry Method: Swiped', 'Balance: $0.00', 'VISA', '$18.31', 'TRANSACTION RECORD', '2876', 'PURCHASE', 'EXPIRES **/** CHIP', 'AUTH# 94639D', 'AID A0000000031010', 'APPLICATION LABEL VISA CREDIT', 'Signature Captured', '000527', '00200061', '20:23:32', 'APPROVED', 'Change', '$0.00', 'HomeGoods VALUES YOUR FEEDBACK! ! !', 'Tell us what you think about', 'your store visit today and', 'enter a monthly drawing to win a', '$500 HomeGoods Gift Card!', 'Visit www.HOMEGOODSFEEDBACK.com', 'Respond by 9/21/22']\""
            ],
            "application/vnd.google.colaboratory.intrinsic+json": {
              "type": "string"
            }
          },
          "metadata": {},
          "execution_count": 4
        }
      ]
    },
    {
      "cell_type": "code",
      "source": [
        "fruits = [\"apple\", \"banana\", \"cherry\"]\n",
        "a = fruits[1:]\n",
        "b = []\n",
        "for x in a:\n",
        "  b.append(x)\n",
        "print(b)"
      ],
      "metadata": {
        "colab": {
          "base_uri": "https://localhost:8080/"
        },
        "id": "nvS8mFvX4kSP",
        "outputId": "4ee2e4ec-b4ab-4f0b-c197-4cfb2244ea04"
      },
      "execution_count": null,
      "outputs": [
        {
          "output_type": "stream",
          "name": "stdout",
          "text": [
            "['banana', 'cherry']\n"
          ]
        }
      ]
    },
    {
      "cell_type": "code",
      "source": [
        "#a[1:][0].index(\"SALE\")\n",
        "c = a[1:][0].index(\"'REGULAR SALE\")\n",
        "print(a[1:][0][0:c]+']')\n",
        "d = (a[1:][0][0:c]+']')\n",
        "#print(a)\n",
        "\n",
        "e = a[1:][0].index(\"Subtotal\")\n",
        "print('['+a[1:][0][137:e]+']')\n",
        "f = (a[1:][0][137:e]+']')\n",
        "\n",
        "h = a[1:][0].index(\"Subtotal\")\n",
        "print('['+a[1:][0][h:]+']')\n",
        "j = (a[1:][0][h:]+']')"
      ],
      "metadata": {
        "colab": {
          "base_uri": "https://localhost:8080/"
        },
        "id": "EMZT39OM5rlz",
        "outputId": "c2fc7098-4291-4c7a-f2e2-684486d55b7a"
      },
      "execution_count": null,
      "outputs": [
        {
          "output_type": "stream",
          "name": "stdout",
          "text": [
            "['HomeGoods', 'THE VILLAGE @ CINCO RANCH', '23518 WESTHEIMER PARKWAY', 'KATY, TX 77494', 'United States', '281-574-1720', ]\n",
            "[ '41 - KITCHEN/ACCESS 392204', '$7.99 T', '41 - KITCHEN/ACCESS 403389', '$5.99 T', '41 - KITCHEN/ACCESS 408621', '$7.99 T', '41 - KITCHEN/ACCESS 408621', '$7.99 T', '36 - TOWELS', '096504', '$8.99 T', '36 - TOWELS', '096504', '$8.99 T', '36 - TOWELS', '096508', '$12.99 T', '56 - Q LINE', '012004', '$4.99 T', '31 - DINNERWARE/CER 538462', '$12.99 T', '31 - DINNERWARE/CER 538459', '$12.99 T', ']\n",
            "[Subtotal', '$91.90', 'TX 8.250% Sales Tax', '$7.58', 'Total', '$99.48', 'Gift Card', '$81.17', '9526', 'Entry Method: Swiped', 'Balance: $0.00', 'VISA', '$18.31', 'TRANSACTION RECORD', '2876', 'PURCHASE', 'EXPIRES **/** CHIP', 'AUTH# 94639D', 'AID A0000000031010', 'APPLICATION LABEL VISA CREDIT', 'Signature Captured', '000527', '00200061', '20:23:32', 'APPROVED', 'Change', '$0.00', 'HomeGoods VALUES YOUR FEEDBACK! ! !', 'Tell us what you think about', 'your store visit today and', 'enter a monthly drawing to win a', '$500 HomeGoods Gift Card!', 'Visit www.HOMEGOODSFEEDBACK.com', 'Respond by 9/21/22']]\n"
          ]
        }
      ]
    },
    {
      "cell_type": "markdown",
      "source": [
        "**For loop**"
      ],
      "metadata": {
        "id": "SEMx0R9wKDiU"
      }
    },
    {
      "cell_type": "code",
      "source": [
        "import pandas as pd\n",
        "import csv\n",
        "with open('text.csv', encoding='utf-8-sig') as csvfile:\n",
        "    reader = csv.reader(csvfile)\n",
        "    count = 0\n",
        "    fsa=[]\n",
        "    a=[]\n",
        "    for row in reader:\n",
        "        count = count+1\n",
        "        #print(row[2])\n",
        "        fsa.append(row[1:])\n",
        "        a.append(row[2])\n",
        "        print(count)\n",
        "print(fsa[0:])\n",
        "print(a[1:])"
      ],
      "metadata": {
        "colab": {
          "base_uri": "https://localhost:8080/"
        },
        "id": "eMNY_ooKKKQv",
        "outputId": "1f083ae3-c10c-4cde-eca2-27101d839478"
      },
      "execution_count": null,
      "outputs": [
        {
          "output_type": "stream",
          "name": "stdout",
          "text": [
            "1\n",
            "2\n",
            "3\n",
            "[['PageNo', 'Text'], ['page_1', \"['HomeGoods', 'THE VILLAGE @ CINCO RANCH', '23518 WESTHEIMER PARKWAY', 'KATY, TX 77494', 'United States', '281-574-1720', 'REGULAR SALE', '41 - KITCHEN/ACCESS 392204', '$7.99 T', '41 - KITCHEN/ACCESS 403389', '$5.99 T', '41 - KITCHEN/ACCESS 408621', '$7.99 T', '41 - KITCHEN/ACCESS 408621', '$7.99 T', '36 - TOWELS', '096504', '$8.99 T', '36 - TOWELS', '096504', '$8.99 T', '36 - TOWELS', '096508', '$12.99 T', '56 - Q LINE', '012004', '$4.99 T', '31 - DINNERWARE/CER 538462', '$12.99 T', '31 - DINNERWARE/CER 538459', '$12.99 T', 'Subtotal', '$91.90', 'TX 8.250% Sales Tax', '$7.58', 'Total', '$99.48', 'Gift Card', '$81.17', '9526', 'Entry Method: Swiped', 'Balance: $0.00', 'VISA', '$18.31', 'TRANSACTION RECORD', '2876', 'PURCHASE', 'EXPIRES **/** CHIP', 'AUTH# 94639D', 'AID A0000000031010', 'APPLICATION LABEL VISA CREDIT', 'Signature Captured', '000527', '00200061', '20:23:32', 'APPROVED', 'Change', '$0.00', 'HomeGoods VALUES YOUR FEEDBACK! ! !', 'Tell us what you think about', 'your store visit today and', 'enter a monthly drawing to win a', '$500 HomeGoods Gift Card!', 'Visit www.HOMEGOODSFEEDBACK.com', 'Respond by 9/21/22']\"], ['page_2', \"['HomeGoods', 'GRAND MORTON TOWN CENTER', '2732 WEST GRAND PKWY N', 'KATY, TX 77449', 'United States', '281-665-4300', 'REGULAR SALE', '35- CANDLES', '252897', '$15.00 T', 'Subtotal', '$15.00', 'TX 8.250% Sales Tax', '$1.24', 'Total', '$16.24', 'Gift Card', '$16.24', '9526', 'Entry Method: Swiped', 'Balance: $81.17', 'Change', '$0.00', 'HOMEGOODS VALUES YOUR FEEDBACK!!!!', 'Tell us what you think about', 'your store visit today and', 'enter a monthly drawing to win a', '$500 HomeGoods Gift Card!', 'Visit www.HOHEGOODSFEEDBACK.com', 'Respond by 9/11/22', 'You will need to reference', 'your receipt', 'Survey number: 1011026519', 'SEE WEBSITE FOR COMPLETE RULES', 'Sold Item Count = 1', '01131KYN611411ELP4AWR4Q', '281011 2 6519 08/28/2022 18:56:03', '1053', 'Customer Copy', 'THANK YOU FOR SHOPPING AT HOMEGOODS']\"]]\n",
            "[\"['HomeGoods', 'THE VILLAGE @ CINCO RANCH', '23518 WESTHEIMER PARKWAY', 'KATY, TX 77494', 'United States', '281-574-1720', 'REGULAR SALE', '41 - KITCHEN/ACCESS 392204', '$7.99 T', '41 - KITCHEN/ACCESS 403389', '$5.99 T', '41 - KITCHEN/ACCESS 408621', '$7.99 T', '41 - KITCHEN/ACCESS 408621', '$7.99 T', '36 - TOWELS', '096504', '$8.99 T', '36 - TOWELS', '096504', '$8.99 T', '36 - TOWELS', '096508', '$12.99 T', '56 - Q LINE', '012004', '$4.99 T', '31 - DINNERWARE/CER 538462', '$12.99 T', '31 - DINNERWARE/CER 538459', '$12.99 T', 'Subtotal', '$91.90', 'TX 8.250% Sales Tax', '$7.58', 'Total', '$99.48', 'Gift Card', '$81.17', '9526', 'Entry Method: Swiped', 'Balance: $0.00', 'VISA', '$18.31', 'TRANSACTION RECORD', '2876', 'PURCHASE', 'EXPIRES **/** CHIP', 'AUTH# 94639D', 'AID A0000000031010', 'APPLICATION LABEL VISA CREDIT', 'Signature Captured', '000527', '00200061', '20:23:32', 'APPROVED', 'Change', '$0.00', 'HomeGoods VALUES YOUR FEEDBACK! ! !', 'Tell us what you think about', 'your store visit today and', 'enter a monthly drawing to win a', '$500 HomeGoods Gift Card!', 'Visit www.HOMEGOODSFEEDBACK.com', 'Respond by 9/21/22']\", \"['HomeGoods', 'GRAND MORTON TOWN CENTER', '2732 WEST GRAND PKWY N', 'KATY, TX 77449', 'United States', '281-665-4300', 'REGULAR SALE', '35- CANDLES', '252897', '$15.00 T', 'Subtotal', '$15.00', 'TX 8.250% Sales Tax', '$1.24', 'Total', '$16.24', 'Gift Card', '$16.24', '9526', 'Entry Method: Swiped', 'Balance: $81.17', 'Change', '$0.00', 'HOMEGOODS VALUES YOUR FEEDBACK!!!!', 'Tell us what you think about', 'your store visit today and', 'enter a monthly drawing to win a', '$500 HomeGoods Gift Card!', 'Visit www.HOHEGOODSFEEDBACK.com', 'Respond by 9/11/22', 'You will need to reference', 'your receipt', 'Survey number: 1011026519', 'SEE WEBSITE FOR COMPLETE RULES', 'Sold Item Count = 1', '01131KYN611411ELP4AWR4Q', '281011 2 6519 08/28/2022 18:56:03', '1053', 'Customer Copy', 'THANK YOU FOR SHOPPING AT HOMEGOODS']\"]\n"
          ]
        }
      ]
    },
    {
      "cell_type": "code",
      "source": [
        "import pandas as pd\n",
        "\n",
        "# reading the csv file\n",
        "df = pd.read_csv(\"text.csv\")\n",
        "#print(df)\n",
        "var = df['Text']\n",
        "var\n",
        "print(var)"
      ],
      "metadata": {
        "colab": {
          "base_uri": "https://localhost:8080/"
        },
        "id": "GFL3bn94YBBv",
        "outputId": "23643624-0a11-424c-d389-2e48e6560dac"
      },
      "execution_count": null,
      "outputs": [
        {
          "output_type": "stream",
          "name": "stdout",
          "text": [
            "0    ['HomeGoods', 'THE VILLAGE @ CINCO RANCH', '23...\n",
            "1    ['HomeGoods', 'GRAND MORTON TOWN CENTER', '273...\n",
            "Name: Text, dtype: object\n"
          ]
        }
      ]
    },
    {
      "cell_type": "markdown",
      "source": [
        "**final**"
      ],
      "metadata": {
        "id": "RX5QlWS7kVg2"
      }
    },
    {
      "cell_type": "code",
      "source": [
        "import pandas as pd\n",
        "\n",
        "# reading the csv file\n",
        "df = pd.read_csv(\"text.csv\")\n",
        "#print(df)\n",
        "var = df['Text']\n",
        "var\n",
        "print(var)\n",
        "for x in var:\n",
        "  #print(x)\n",
        "  c = x.index(\"'REGULAR SALE\")\n",
        "  print(x[0:c]+']')\n",
        "\n",
        "  e = x.index(\"Subtotal\")\n",
        "  print('['+x[e:])\n",
        "  print('['+x[c:e]+']')\n",
        "print(x)"
      ],
      "metadata": {
        "colab": {
          "base_uri": "https://localhost:8080/"
        },
        "id": "_7SnV675hKkd",
        "outputId": "63f08bc2-665d-4e42-c0ce-16f03275292f"
      },
      "execution_count": null,
      "outputs": [
        {
          "output_type": "stream",
          "name": "stdout",
          "text": [
            "0    ['HomeGoods', 'THE VILLAGE @ CINCO RANCH', '23...\n",
            "1    ['HomeGoods', 'GRAND MORTON TOWN CENTER', '273...\n",
            "Name: Text, dtype: object\n",
            "['HomeGoods', 'THE VILLAGE @ CINCO RANCH', '23518 WESTHEIMER PARKWAY', 'KATY, TX 77494', 'United States', '281-574-1720', ]\n",
            "[Subtotal', '$91.90', 'TX 8.250% Sales Tax', '$7.58', 'Total', '$99.48', 'Gift Card', '$81.17', '9526', 'Entry Method: Swiped', 'Balance: $0.00', 'VISA', '$18.31', 'TRANSACTION RECORD', '2876', 'PURCHASE', 'EXPIRES **/** CHIP', 'AUTH# 94639D', 'AID A0000000031010', 'APPLICATION LABEL VISA CREDIT', 'Signature Captured', '000527', '00200061', '20:23:32', 'APPROVED', 'Change', '$0.00', 'HomeGoods VALUES YOUR FEEDBACK! ! !', 'Tell us what you think about', 'your store visit today and', 'enter a monthly drawing to win a', '$500 HomeGoods Gift Card!', 'Visit www.HOMEGOODSFEEDBACK.com', 'Respond by 9/21/22']\n",
            "['REGULAR SALE', '41 - KITCHEN/ACCESS 392204', '$7.99 T', '41 - KITCHEN/ACCESS 403389', '$5.99 T', '41 - KITCHEN/ACCESS 408621', '$7.99 T', '41 - KITCHEN/ACCESS 408621', '$7.99 T', '36 - TOWELS', '096504', '$8.99 T', '36 - TOWELS', '096504', '$8.99 T', '36 - TOWELS', '096508', '$12.99 T', '56 - Q LINE', '012004', '$4.99 T', '31 - DINNERWARE/CER 538462', '$12.99 T', '31 - DINNERWARE/CER 538459', '$12.99 T', ']\n",
            "['HomeGoods', 'GRAND MORTON TOWN CENTER', '2732 WEST GRAND PKWY N', 'KATY, TX 77449', 'United States', '281-665-4300', ]\n",
            "[Subtotal', '$15.00', 'TX 8.250% Sales Tax', '$1.24', 'Total', '$16.24', 'Gift Card', '$16.24', '9526', 'Entry Method: Swiped', 'Balance: $81.17', 'Change', '$0.00', 'HOMEGOODS VALUES YOUR FEEDBACK!!!!', 'Tell us what you think about', 'your store visit today and', 'enter a monthly drawing to win a', '$500 HomeGoods Gift Card!', 'Visit www.HOHEGOODSFEEDBACK.com', 'Respond by 9/11/22', 'You will need to reference', 'your receipt', 'Survey number: 1011026519', 'SEE WEBSITE FOR COMPLETE RULES', 'Sold Item Count = 1', '01131KYN611411ELP4AWR4Q', '281011 2 6519 08/28/2022 18:56:03', '1053', 'Customer Copy', 'THANK YOU FOR SHOPPING AT HOMEGOODS']\n",
            "['REGULAR SALE', '35- CANDLES', '252897', '$15.00 T', ']\n",
            "['HomeGoods', 'GRAND MORTON TOWN CENTER', '2732 WEST GRAND PKWY N', 'KATY, TX 77449', 'United States', '281-665-4300', 'REGULAR SALE', '35- CANDLES', '252897', '$15.00 T', 'Subtotal', '$15.00', 'TX 8.250% Sales Tax', '$1.24', 'Total', '$16.24', 'Gift Card', '$16.24', '9526', 'Entry Method: Swiped', 'Balance: $81.17', 'Change', '$0.00', 'HOMEGOODS VALUES YOUR FEEDBACK!!!!', 'Tell us what you think about', 'your store visit today and', 'enter a monthly drawing to win a', '$500 HomeGoods Gift Card!', 'Visit www.HOHEGOODSFEEDBACK.com', 'Respond by 9/11/22', 'You will need to reference', 'your receipt', 'Survey number: 1011026519', 'SEE WEBSITE FOR COMPLETE RULES', 'Sold Item Count = 1', '01131KYN611411ELP4AWR4Q', '281011 2 6519 08/28/2022 18:56:03', '1053', 'Customer Copy', 'THANK YOU FOR SHOPPING AT HOMEGOODS']\n"
          ]
        }
      ]
    },
    {
      "cell_type": "code",
      "source": [
        "import pandas as pd\n",
        "\n",
        "# reading the csv file\n",
        "df = pd.read_csv(\"text.csv\")\n",
        "#print(df)\n",
        "var = df['Text']\n",
        "var\n",
        "a = []\n",
        "g = []\n",
        "k = []\n",
        "#print(var)\n",
        "for x in var:\n",
        "  #print(x)\n",
        "  c = x.index(\"'REGULAR SALE\")\n",
        "  #print(x[0:c]+']')\n",
        "  b = x[0:c]+']'\n",
        "  a.append(b)\n",
        "  e = x.index(\"Subtotal\")\n",
        "  #print('['+x[e:])\n",
        "  h = '['+x[e:]\n",
        "  g.append(h)\n",
        "  #print('['+x[c:e]+']')\n",
        "  m = '['+x[c:e]+']'\n",
        "  k.append(m)\n",
        "print(x)\n",
        "print(a)\n",
        "print(g)\n",
        "print(k)"
      ],
      "metadata": {
        "colab": {
          "base_uri": "https://localhost:8080/"
        },
        "id": "-3_WcGtZlP99",
        "outputId": "9afa5049-587b-4745-e5b4-933437e8a125"
      },
      "execution_count": null,
      "outputs": [
        {
          "output_type": "stream",
          "name": "stdout",
          "text": [
            "['HomeGoods', 'GRAND MORTON TOWN CENTER', '2732 WEST GRAND PKWY N', 'KATY, TX 77449', 'United States', '281-665-4300', 'REGULAR SALE', '35- CANDLES', '252897', '$15.00 T', 'Subtotal', '$15.00', 'TX 8.250% Sales Tax', '$1.24', 'Total', '$16.24', 'Gift Card', '$16.24', '9526', 'Entry Method: Swiped', 'Balance: $81.17', 'Change', '$0.00', 'HOMEGOODS VALUES YOUR FEEDBACK!!!!', 'Tell us what you think about', 'your store visit today and', 'enter a monthly drawing to win a', '$500 HomeGoods Gift Card!', 'Visit www.HOHEGOODSFEEDBACK.com', 'Respond by 9/11/22', 'You will need to reference', 'your receipt', 'Survey number: 1011026519', 'SEE WEBSITE FOR COMPLETE RULES', 'Sold Item Count = 1', '01131KYN611411ELP4AWR4Q', '281011 2 6519 08/28/2022 18:56:03', '1053', 'Customer Copy', 'THANK YOU FOR SHOPPING AT HOMEGOODS']\n",
            "[\"['HomeGoods', 'THE VILLAGE @ CINCO RANCH', '23518 WESTHEIMER PARKWAY', 'KATY, TX 77494', 'United States', '281-574-1720', ]\", \"['HomeGoods', 'GRAND MORTON TOWN CENTER', '2732 WEST GRAND PKWY N', 'KATY, TX 77449', 'United States', '281-665-4300', ]\"]\n",
            "[\"[Subtotal', '$91.90', 'TX 8.250% Sales Tax', '$7.58', 'Total', '$99.48', 'Gift Card', '$81.17', '9526', 'Entry Method: Swiped', 'Balance: $0.00', 'VISA', '$18.31', 'TRANSACTION RECORD', '2876', 'PURCHASE', 'EXPIRES **/** CHIP', 'AUTH# 94639D', 'AID A0000000031010', 'APPLICATION LABEL VISA CREDIT', 'Signature Captured', '000527', '00200061', '20:23:32', 'APPROVED', 'Change', '$0.00', 'HomeGoods VALUES YOUR FEEDBACK! ! !', 'Tell us what you think about', 'your store visit today and', 'enter a monthly drawing to win a', '$500 HomeGoods Gift Card!', 'Visit www.HOMEGOODSFEEDBACK.com', 'Respond by 9/21/22']\", \"[Subtotal', '$15.00', 'TX 8.250% Sales Tax', '$1.24', 'Total', '$16.24', 'Gift Card', '$16.24', '9526', 'Entry Method: Swiped', 'Balance: $81.17', 'Change', '$0.00', 'HOMEGOODS VALUES YOUR FEEDBACK!!!!', 'Tell us what you think about', 'your store visit today and', 'enter a monthly drawing to win a', '$500 HomeGoods Gift Card!', 'Visit www.HOHEGOODSFEEDBACK.com', 'Respond by 9/11/22', 'You will need to reference', 'your receipt', 'Survey number: 1011026519', 'SEE WEBSITE FOR COMPLETE RULES', 'Sold Item Count = 1', '01131KYN611411ELP4AWR4Q', '281011 2 6519 08/28/2022 18:56:03', '1053', 'Customer Copy', 'THANK YOU FOR SHOPPING AT HOMEGOODS']\"]\n",
            "[\"['REGULAR SALE', '41 - KITCHEN/ACCESS 392204', '$7.99 T', '41 - KITCHEN/ACCESS 403389', '$5.99 T', '41 - KITCHEN/ACCESS 408621', '$7.99 T', '41 - KITCHEN/ACCESS 408621', '$7.99 T', '36 - TOWELS', '096504', '$8.99 T', '36 - TOWELS', '096504', '$8.99 T', '36 - TOWELS', '096508', '$12.99 T', '56 - Q LINE', '012004', '$4.99 T', '31 - DINNERWARE/CER 538462', '$12.99 T', '31 - DINNERWARE/CER 538459', '$12.99 T', ']\", \"['REGULAR SALE', '35- CANDLES', '252897', '$15.00 T', ']\"]\n"
          ]
        }
      ]
    },
    {
      "cell_type": "code",
      "source": [
        "import pandas as pd\n",
        "\n",
        "# reading the csv file\n",
        "df = pd.read_csv(\"text.csv\")\n",
        "#print(df)\n",
        "var = df['Text']\n",
        "var\n",
        "a = []\n",
        "g = []\n",
        "k = []\n",
        "#print(var)\n",
        "for x in var:\n",
        "  #print(x)\n",
        "  c = x.index(\"'REGULAR SALE\")\n",
        "  #print(x[0:c]+']')\n",
        "  b = x[0:c]\n",
        "  a.append(b)\n",
        "  e = x.index(\"Subtotal\")\n",
        "  #print('['+x[e:])\n",
        "  h = x[e:]\n",
        "  g.append(h)\n",
        "  #print('['+x[c:e]+']')\n",
        "  m = x[c:e]\n",
        "  k.append(m)\n",
        "print(x)\n",
        "print(a)\n",
        "print(g)\n",
        "print(k)"
      ],
      "metadata": {
        "colab": {
          "base_uri": "https://localhost:8080/"
        },
        "id": "LK4_zP_bwVTd",
        "outputId": "043683c0-2194-4ead-e1fc-0dae2ca7d9af"
      },
      "execution_count": 1,
      "outputs": [
        {
          "output_type": "stream",
          "name": "stdout",
          "text": [
            "['HomeGoods', 'GRAND MORTON TOWN CENTER', '2732 WEST GRAND PKWY N', 'KATY, TX 77449', 'United States', '281-665-4300', 'REGULAR SALE', '35- CANDLES', '252897', '$15.00 T', 'Subtotal', '$15.00', 'TX 8.250% Sales Tax', '$1.24', 'Total', '$16.24', 'Gift Card', '$16.24', '9526', 'Entry Method: Swiped', 'Balance: $81.17', 'Change', '$0.00', 'HOMEGOODS VALUES YOUR FEEDBACK!!!!', 'Tell us what you think about', 'your store visit today and', 'enter a monthly drawing to win a', '$500 HomeGoods Gift Card!', 'Visit www.HOHEGOODSFEEDBACK.com', 'Respond by 9/11/22', 'You will need to reference', 'your receipt', 'Survey number: 1011026519', 'SEE WEBSITE FOR COMPLETE RULES', 'Sold Item Count = 1', '01131KYN611411ELP4AWR4Q', '281011 2 6519 08/28/2022 18:56:03', '1053', 'Customer Copy', 'THANK YOU FOR SHOPPING AT HOMEGOODS']\n",
            "[\"['HomeGoods', 'THE VILLAGE @ CINCO RANCH', '23518 WESTHEIMER PARKWAY', 'KATY, TX 77494', 'United States', '281-574-1720', \", \"['HomeGoods', 'GRAND MORTON TOWN CENTER', '2732 WEST GRAND PKWY N', 'KATY, TX 77449', 'United States', '281-665-4300', \"]\n",
            "[\"Subtotal', '$91.90', 'TX 8.250% Sales Tax', '$7.58', 'Total', '$99.48', 'Gift Card', '$81.17', '9526', 'Entry Method: Swiped', 'Balance: $0.00', 'VISA', '$18.31', 'TRANSACTION RECORD', '2876', 'PURCHASE', 'EXPIRES **/** CHIP', 'AUTH# 94639D', 'AID A0000000031010', 'APPLICATION LABEL VISA CREDIT', 'Signature Captured', '000527', '00200061', '20:23:32', 'APPROVED', 'Change', '$0.00', 'HomeGoods VALUES YOUR FEEDBACK! ! !', 'Tell us what you think about', 'your store visit today and', 'enter a monthly drawing to win a', '$500 HomeGoods Gift Card!', 'Visit www.HOMEGOODSFEEDBACK.com', 'Respond by 9/21/22']\", \"Subtotal', '$15.00', 'TX 8.250% Sales Tax', '$1.24', 'Total', '$16.24', 'Gift Card', '$16.24', '9526', 'Entry Method: Swiped', 'Balance: $81.17', 'Change', '$0.00', 'HOMEGOODS VALUES YOUR FEEDBACK!!!!', 'Tell us what you think about', 'your store visit today and', 'enter a monthly drawing to win a', '$500 HomeGoods Gift Card!', 'Visit www.HOHEGOODSFEEDBACK.com', 'Respond by 9/11/22', 'You will need to reference', 'your receipt', 'Survey number: 1011026519', 'SEE WEBSITE FOR COMPLETE RULES', 'Sold Item Count = 1', '01131KYN611411ELP4AWR4Q', '281011 2 6519 08/28/2022 18:56:03', '1053', 'Customer Copy', 'THANK YOU FOR SHOPPING AT HOMEGOODS']\"]\n",
            "[\"'REGULAR SALE', '41 - KITCHEN/ACCESS 392204', '$7.99 T', '41 - KITCHEN/ACCESS 403389', '$5.99 T', '41 - KITCHEN/ACCESS 408621', '$7.99 T', '41 - KITCHEN/ACCESS 408621', '$7.99 T', '36 - TOWELS', '096504', '$8.99 T', '36 - TOWELS', '096504', '$8.99 T', '36 - TOWELS', '096508', '$12.99 T', '56 - Q LINE', '012004', '$4.99 T', '31 - DINNERWARE/CER 538462', '$12.99 T', '31 - DINNERWARE/CER 538459', '$12.99 T', '\", \"'REGULAR SALE', '35- CANDLES', '252897', '$15.00 T', '\"]\n"
          ]
        }
      ]
    },
    {
      "cell_type": "code",
      "source": [
        "import pandas as pd\n",
        "\n",
        "# reading the csv file\n",
        "df = pd.read_csv(\"text.csv\")\n",
        "#print(df)\n",
        "var = df['PageNo']\n",
        "var\n",
        "print(var)\n",
        "for x in var:\n",
        "  print(x)"
      ],
      "metadata": {
        "colab": {
          "base_uri": "https://localhost:8080/"
        },
        "id": "REBZiR1pkYnI",
        "outputId": "ed3f92af-c76d-4dd2-f4e9-daff38fc9a5a"
      },
      "execution_count": null,
      "outputs": [
        {
          "output_type": "stream",
          "name": "stdout",
          "text": [
            "0    page_1\n",
            "1    page_2\n",
            "Name: PageNo, dtype: object\n",
            "page_1\n",
            "page_2\n"
          ]
        }
      ]
    },
    {
      "cell_type": "code",
      "source": [
        "df['Text'][0]"
      ],
      "metadata": {
        "colab": {
          "base_uri": "https://localhost:8080/",
          "height": 128
        },
        "id": "gz2zoIU8ZDJe",
        "outputId": "e849d281-7faa-41af-a77d-c2f84ee13ff4"
      },
      "execution_count": null,
      "outputs": [
        {
          "output_type": "execute_result",
          "data": {
            "text/plain": [
              "\"['HomeGoods', 'THE VILLAGE @ CINCO RANCH', '23518 WESTHEIMER PARKWAY', 'KATY, TX 77494', 'United States', '281-574-1720', 'REGULAR SALE', '41 - KITCHEN/ACCESS 392204', '$7.99 T', '41 - KITCHEN/ACCESS 403389', '$5.99 T', '41 - KITCHEN/ACCESS 408621', '$7.99 T', '41 - KITCHEN/ACCESS 408621', '$7.99 T', '36 - TOWELS', '096504', '$8.99 T', '36 - TOWELS', '096504', '$8.99 T', '36 - TOWELS', '096508', '$12.99 T', '56 - Q LINE', '012004', '$4.99 T', '31 - DINNERWARE/CER 538462', '$12.99 T', '31 - DINNERWARE/CER 538459', '$12.99 T', 'Subtotal', '$91.90', 'TX 8.250% Sales Tax', '$7.58', 'Total', '$99.48', 'Gift Card', '$81.17', '9526', 'Entry Method: Swiped', 'Balance: $0.00', 'VISA', '$18.31', 'TRANSACTION RECORD', '2876', 'PURCHASE', 'EXPIRES **/** CHIP', 'AUTH# 94639D', 'AID A0000000031010', 'APPLICATION LABEL VISA CREDIT', 'Signature Captured', '000527', '00200061', '20:23:32', 'APPROVED', 'Change', '$0.00', 'HomeGoods VALUES YOUR FEEDBACK! ! !', 'Tell us what you think about', 'your store visit today and', 'enter a monthly drawing to win a', '$500 HomeGoods Gift Card!', 'Visit www.HOMEGOODSFEEDBACK.com', 'Respond by 9/21/22']\""
            ],
            "application/vnd.google.colaboratory.intrinsic+json": {
              "type": "string"
            }
          },
          "metadata": {},
          "execution_count": 36
        }
      ]
    },
    {
      "cell_type": "code",
      "source": [
        "inp_lst = ['Python','Java','Kotlin','Machine Learning','Keras']\n",
        "size = len(inp_lst)\n",
        "print(size)"
      ],
      "metadata": {
        "colab": {
          "base_uri": "https://localhost:8080/"
        },
        "id": "L9Jd2DLpZ1_-",
        "outputId": "8f32936a-ce28-4f3f-b623-858b1bbfd3b4"
      },
      "execution_count": null,
      "outputs": [
        {
          "output_type": "stream",
          "name": "stdout",
          "text": [
            "5\n"
          ]
        }
      ]
    },
    {
      "cell_type": "code",
      "source": [
        "size = len(df['Text'])\n",
        "print(size)"
      ],
      "metadata": {
        "colab": {
          "base_uri": "https://localhost:8080/"
        },
        "id": "RDWdOrTHaDdx",
        "outputId": "2c70b894-edb4-4c4e-d8b7-ed21dc0ff1ac"
      },
      "execution_count": null,
      "outputs": [
        {
          "output_type": "stream",
          "name": "stdout",
          "text": [
            "2\n"
          ]
        }
      ]
    },
    {
      "cell_type": "code",
      "source": [
        "import pandas as pd\n",
        "\n",
        "# reading the csv file\n",
        "df = pd.read_csv(\"text.csv\")\n",
        "#print(df)\n",
        "var = df['Text']\n",
        "\n",
        "sizes = len(var)\n",
        "print(sizes)"
      ],
      "metadata": {
        "colab": {
          "base_uri": "https://localhost:8080/"
        },
        "id": "xE0VTvNVaWx-",
        "outputId": "e618d4f7-f0b2-411e-9708-24013b910058"
      },
      "execution_count": null,
      "outputs": [
        {
          "output_type": "stream",
          "name": "stdout",
          "text": [
            "2\n"
          ]
        }
      ]
    },
    {
      "cell_type": "code",
      "source": [
        "list = ['Python','Java','Kotlin','Machine Learning','Keras']\n",
        "for x in list:\n",
        "  print(x)"
      ],
      "metadata": {
        "colab": {
          "base_uri": "https://localhost:8080/"
        },
        "id": "lKnpVsp5aiJo",
        "outputId": "1996f9a4-5bab-4175-80e8-78d7f64cc719"
      },
      "execution_count": null,
      "outputs": [
        {
          "output_type": "stream",
          "name": "stdout",
          "text": [
            "Python\n",
            "Java\n",
            "Kotlin\n",
            "Machine Learning\n",
            "Keras\n"
          ]
        }
      ]
    },
    {
      "cell_type": "code",
      "source": [
        "list = ['Python','Java','Kotlin','Machine Learning','Keras']\n",
        "for x in list:\n",
        "  if size == size:\n",
        "    print(x)"
      ],
      "metadata": {
        "colab": {
          "base_uri": "https://localhost:8080/"
        },
        "id": "7HIohJJDbQZc",
        "outputId": "585daaa0-0314-4837-f1db-e7af934b5252"
      },
      "execution_count": null,
      "outputs": [
        {
          "output_type": "stream",
          "name": "stdout",
          "text": [
            "Python\n",
            "Java\n",
            "Kotlin\n",
            "Machine Learning\n",
            "Keras\n"
          ]
        }
      ]
    },
    {
      "cell_type": "code",
      "source": [
        "list = ['Python','Java','Kotlin','Machine Learning','Keras']\n",
        "for x in list:\n",
        "  if size == size:\n",
        "    print(x)"
      ],
      "metadata": {
        "id": "YGDZqgq4b37L"
      },
      "execution_count": null,
      "outputs": []
    },
    {
      "cell_type": "code",
      "source": [
        "inp_lst = ['Python','Java','Kotlin','Machine Learning','Keras']\n",
        "size = 0\n",
        "print(\"Length of the input string:\")\n",
        "for x in inp_lst:\n",
        "    size+=1\n",
        "print(size)"
      ],
      "metadata": {
        "colab": {
          "base_uri": "https://localhost:8080/"
        },
        "id": "hWOAfMYBcA7P",
        "outputId": "de125723-eea6-40d4-b6c2-ac2f027bfd7e"
      },
      "execution_count": null,
      "outputs": [
        {
          "output_type": "stream",
          "name": "stdout",
          "text": [
            "Length of the input string:\n",
            "5\n"
          ]
        }
      ]
    },
    {
      "cell_type": "code",
      "source": [
        "inp_lst = ['Python','Java','Kotlin','Machine Learning','Keras']\n",
        "size = 0\n",
        "print(\"Length of the input string:\")\n",
        "for x in inp_lst:\n",
        "    size+=1\n",
        "    if size == sizes:\n",
        "      print(x)\n",
        "print(size)"
      ],
      "metadata": {
        "colab": {
          "base_uri": "https://localhost:8080/"
        },
        "id": "v7wSz_5zdRfr",
        "outputId": "0fa7cf27-5a3d-4e6e-a78c-7c518c610d58"
      },
      "execution_count": null,
      "outputs": [
        {
          "output_type": "stream",
          "name": "stdout",
          "text": [
            "Length of the input string:\n",
            "Java\n",
            "5\n"
          ]
        }
      ]
    },
    {
      "cell_type": "code",
      "source": [
        "counter = 0\n",
        "for item in list:\n",
        " counter+=1\n",
        "print(counter)"
      ],
      "metadata": {
        "colab": {
          "base_uri": "https://localhost:8080/"
        },
        "id": "YMwBHF68d9pS",
        "outputId": "e92f1a14-175c-46da-a537-316ee3e7fe18"
      },
      "execution_count": null,
      "outputs": [
        {
          "output_type": "stream",
          "name": "stdout",
          "text": [
            "5\n"
          ]
        }
      ]
    },
    {
      "cell_type": "code",
      "source": [
        "counter = 0\n",
        "for item in var:\n",
        " counter+=1\n",
        " a = df['Text'][counter]\n",
        " print(a)\n",
        "print(counter)"
      ],
      "metadata": {
        "colab": {
          "base_uri": "https://localhost:8080/",
          "height": 493
        },
        "id": "o_v0nGU-ebvY",
        "outputId": "943cb4d5-354e-489b-fc38-1c9b92fe2d87"
      },
      "execution_count": null,
      "outputs": [
        {
          "output_type": "stream",
          "name": "stdout",
          "text": [
            "['HomeGoods', 'GRAND MORTON TOWN CENTER', '2732 WEST GRAND PKWY N', 'KATY, TX 77449', 'United States', '281-665-4300', 'REGULAR SALE', '35- CANDLES', '252897', '$15.00 T', 'Subtotal', '$15.00', 'TX 8.250% Sales Tax', '$1.24', 'Total', '$16.24', 'Gift Card', '$16.24', '9526', 'Entry Method: Swiped', 'Balance: $81.17', 'Change', '$0.00', 'HOMEGOODS VALUES YOUR FEEDBACK!!!!', 'Tell us what you think about', 'your store visit today and', 'enter a monthly drawing to win a', '$500 HomeGoods Gift Card!', 'Visit www.HOHEGOODSFEEDBACK.com', 'Respond by 9/11/22', 'You will need to reference', 'your receipt', 'Survey number: 1011026519', 'SEE WEBSITE FOR COMPLETE RULES', 'Sold Item Count = 1', '01131KYN611411ELP4AWR4Q', '281011 2 6519 08/28/2022 18:56:03', '1053', 'Customer Copy', 'THANK YOU FOR SHOPPING AT HOMEGOODS']\n"
          ]
        },
        {
          "output_type": "error",
          "ename": "KeyError",
          "evalue": "ignored",
          "traceback": [
            "\u001b[0;31m---------------------------------------------------------------------------\u001b[0m",
            "\u001b[0;31mValueError\u001b[0m                                Traceback (most recent call last)",
            "\u001b[0;32m/usr/local/lib/python3.7/dist-packages/pandas/core/indexes/range.py\u001b[0m in \u001b[0;36mget_loc\u001b[0;34m(self, key, method, tolerance)\u001b[0m\n\u001b[1;32m    384\u001b[0m                 \u001b[0;32mtry\u001b[0m\u001b[0;34m:\u001b[0m\u001b[0;34m\u001b[0m\u001b[0;34m\u001b[0m\u001b[0m\n\u001b[0;32m--> 385\u001b[0;31m                     \u001b[0;32mreturn\u001b[0m \u001b[0mself\u001b[0m\u001b[0;34m.\u001b[0m\u001b[0m_range\u001b[0m\u001b[0;34m.\u001b[0m\u001b[0mindex\u001b[0m\u001b[0;34m(\u001b[0m\u001b[0mnew_key\u001b[0m\u001b[0;34m)\u001b[0m\u001b[0;34m\u001b[0m\u001b[0;34m\u001b[0m\u001b[0m\n\u001b[0m\u001b[1;32m    386\u001b[0m                 \u001b[0;32mexcept\u001b[0m \u001b[0mValueError\u001b[0m \u001b[0;32mas\u001b[0m \u001b[0merr\u001b[0m\u001b[0;34m:\u001b[0m\u001b[0;34m\u001b[0m\u001b[0;34m\u001b[0m\u001b[0m\n",
            "\u001b[0;31mValueError\u001b[0m: 2 is not in range",
            "\nThe above exception was the direct cause of the following exception:\n",
            "\u001b[0;31mKeyError\u001b[0m                                  Traceback (most recent call last)",
            "\u001b[0;32m<ipython-input-38-2226af97884a>\u001b[0m in \u001b[0;36m<module>\u001b[0;34m\u001b[0m\n\u001b[1;32m      2\u001b[0m \u001b[0;32mfor\u001b[0m \u001b[0mitem\u001b[0m \u001b[0;32min\u001b[0m \u001b[0mvar\u001b[0m\u001b[0;34m:\u001b[0m\u001b[0;34m\u001b[0m\u001b[0;34m\u001b[0m\u001b[0m\n\u001b[1;32m      3\u001b[0m  \u001b[0mcounter\u001b[0m\u001b[0;34m+=\u001b[0m\u001b[0;36m1\u001b[0m\u001b[0;34m\u001b[0m\u001b[0;34m\u001b[0m\u001b[0m\n\u001b[0;32m----> 4\u001b[0;31m  \u001b[0ma\u001b[0m \u001b[0;34m=\u001b[0m \u001b[0mdf\u001b[0m\u001b[0;34m[\u001b[0m\u001b[0;34m'Text'\u001b[0m\u001b[0;34m]\u001b[0m\u001b[0;34m[\u001b[0m\u001b[0mcounter\u001b[0m\u001b[0;34m]\u001b[0m\u001b[0;34m\u001b[0m\u001b[0;34m\u001b[0m\u001b[0m\n\u001b[0m\u001b[1;32m      5\u001b[0m  \u001b[0mprint\u001b[0m\u001b[0;34m(\u001b[0m\u001b[0ma\u001b[0m\u001b[0;34m)\u001b[0m\u001b[0;34m\u001b[0m\u001b[0;34m\u001b[0m\u001b[0m\n\u001b[1;32m      6\u001b[0m \u001b[0mprint\u001b[0m\u001b[0;34m(\u001b[0m\u001b[0mcounter\u001b[0m\u001b[0;34m)\u001b[0m\u001b[0;34m\u001b[0m\u001b[0;34m\u001b[0m\u001b[0m\n",
            "\u001b[0;32m/usr/local/lib/python3.7/dist-packages/pandas/core/series.py\u001b[0m in \u001b[0;36m__getitem__\u001b[0;34m(self, key)\u001b[0m\n\u001b[1;32m    940\u001b[0m \u001b[0;34m\u001b[0m\u001b[0m\n\u001b[1;32m    941\u001b[0m         \u001b[0;32melif\u001b[0m \u001b[0mkey_is_scalar\u001b[0m\u001b[0;34m:\u001b[0m\u001b[0;34m\u001b[0m\u001b[0;34m\u001b[0m\u001b[0m\n\u001b[0;32m--> 942\u001b[0;31m             \u001b[0;32mreturn\u001b[0m \u001b[0mself\u001b[0m\u001b[0;34m.\u001b[0m\u001b[0m_get_value\u001b[0m\u001b[0;34m(\u001b[0m\u001b[0mkey\u001b[0m\u001b[0;34m)\u001b[0m\u001b[0;34m\u001b[0m\u001b[0;34m\u001b[0m\u001b[0m\n\u001b[0m\u001b[1;32m    943\u001b[0m \u001b[0;34m\u001b[0m\u001b[0m\n\u001b[1;32m    944\u001b[0m         \u001b[0;32mif\u001b[0m \u001b[0mis_hashable\u001b[0m\u001b[0;34m(\u001b[0m\u001b[0mkey\u001b[0m\u001b[0;34m)\u001b[0m\u001b[0;34m:\u001b[0m\u001b[0;34m\u001b[0m\u001b[0;34m\u001b[0m\u001b[0m\n",
            "\u001b[0;32m/usr/local/lib/python3.7/dist-packages/pandas/core/series.py\u001b[0m in \u001b[0;36m_get_value\u001b[0;34m(self, label, takeable)\u001b[0m\n\u001b[1;32m   1049\u001b[0m \u001b[0;34m\u001b[0m\u001b[0m\n\u001b[1;32m   1050\u001b[0m         \u001b[0;31m# Similar to Index.get_value, but we do not fall back to positional\u001b[0m\u001b[0;34m\u001b[0m\u001b[0;34m\u001b[0m\u001b[0;34m\u001b[0m\u001b[0m\n\u001b[0;32m-> 1051\u001b[0;31m         \u001b[0mloc\u001b[0m \u001b[0;34m=\u001b[0m \u001b[0mself\u001b[0m\u001b[0;34m.\u001b[0m\u001b[0mindex\u001b[0m\u001b[0;34m.\u001b[0m\u001b[0mget_loc\u001b[0m\u001b[0;34m(\u001b[0m\u001b[0mlabel\u001b[0m\u001b[0;34m)\u001b[0m\u001b[0;34m\u001b[0m\u001b[0;34m\u001b[0m\u001b[0m\n\u001b[0m\u001b[1;32m   1052\u001b[0m         \u001b[0;32mreturn\u001b[0m \u001b[0mself\u001b[0m\u001b[0;34m.\u001b[0m\u001b[0mindex\u001b[0m\u001b[0;34m.\u001b[0m\u001b[0m_get_values_for_loc\u001b[0m\u001b[0;34m(\u001b[0m\u001b[0mself\u001b[0m\u001b[0;34m,\u001b[0m \u001b[0mloc\u001b[0m\u001b[0;34m,\u001b[0m \u001b[0mlabel\u001b[0m\u001b[0;34m)\u001b[0m\u001b[0;34m\u001b[0m\u001b[0;34m\u001b[0m\u001b[0m\n\u001b[1;32m   1053\u001b[0m \u001b[0;34m\u001b[0m\u001b[0m\n",
            "\u001b[0;32m/usr/local/lib/python3.7/dist-packages/pandas/core/indexes/range.py\u001b[0m in \u001b[0;36mget_loc\u001b[0;34m(self, key, method, tolerance)\u001b[0m\n\u001b[1;32m    385\u001b[0m                     \u001b[0;32mreturn\u001b[0m \u001b[0mself\u001b[0m\u001b[0;34m.\u001b[0m\u001b[0m_range\u001b[0m\u001b[0;34m.\u001b[0m\u001b[0mindex\u001b[0m\u001b[0;34m(\u001b[0m\u001b[0mnew_key\u001b[0m\u001b[0;34m)\u001b[0m\u001b[0;34m\u001b[0m\u001b[0;34m\u001b[0m\u001b[0m\n\u001b[1;32m    386\u001b[0m                 \u001b[0;32mexcept\u001b[0m \u001b[0mValueError\u001b[0m \u001b[0;32mas\u001b[0m \u001b[0merr\u001b[0m\u001b[0;34m:\u001b[0m\u001b[0;34m\u001b[0m\u001b[0;34m\u001b[0m\u001b[0m\n\u001b[0;32m--> 387\u001b[0;31m                     \u001b[0;32mraise\u001b[0m \u001b[0mKeyError\u001b[0m\u001b[0;34m(\u001b[0m\u001b[0mkey\u001b[0m\u001b[0;34m)\u001b[0m \u001b[0;32mfrom\u001b[0m \u001b[0merr\u001b[0m\u001b[0;34m\u001b[0m\u001b[0;34m\u001b[0m\u001b[0m\n\u001b[0m\u001b[1;32m    388\u001b[0m             \u001b[0;32mraise\u001b[0m \u001b[0mKeyError\u001b[0m\u001b[0;34m(\u001b[0m\u001b[0mkey\u001b[0m\u001b[0;34m)\u001b[0m\u001b[0;34m\u001b[0m\u001b[0;34m\u001b[0m\u001b[0m\n\u001b[1;32m    389\u001b[0m         \u001b[0;32mreturn\u001b[0m \u001b[0msuper\u001b[0m\u001b[0;34m(\u001b[0m\u001b[0;34m)\u001b[0m\u001b[0;34m.\u001b[0m\u001b[0mget_loc\u001b[0m\u001b[0;34m(\u001b[0m\u001b[0mkey\u001b[0m\u001b[0;34m,\u001b[0m \u001b[0mmethod\u001b[0m\u001b[0;34m=\u001b[0m\u001b[0mmethod\u001b[0m\u001b[0;34m,\u001b[0m \u001b[0mtolerance\u001b[0m\u001b[0;34m=\u001b[0m\u001b[0mtolerance\u001b[0m\u001b[0;34m)\u001b[0m\u001b[0;34m\u001b[0m\u001b[0;34m\u001b[0m\u001b[0m\n",
            "\u001b[0;31mKeyError\u001b[0m: 2"
          ]
        }
      ]
    },
    {
      "cell_type": "code",
      "source": [
        "import csv\n",
        "  \n",
        "# Open file\n",
        "with open('text.csv') as file_obj:\n",
        "      \n",
        "    # Skips the heading\n",
        "    # Using next() method\n",
        "    heading = next(file_obj)\n",
        "      \n",
        "    # Create reader object by passing the file \n",
        "    # object to reader method\n",
        "    reader_obj = csv.reader(file_obj)\n",
        "      \n",
        "    # Iterate over each row in the csv file \n",
        "    # using reader object\n",
        "    a=[]\n",
        "    b=[]\n",
        "    for row in reader_obj:\n",
        "      a.append(row[2])\n",
        "      b.append(row[2])\n",
        "print(a[1:])\n",
        "print(b[1:][0])\n"
      ],
      "metadata": {
        "colab": {
          "base_uri": "https://localhost:8080/"
        },
        "id": "Ptg9euzkLmy4",
        "outputId": "a74fe3e7-67d4-4052-ab21-3871be692dc4"
      },
      "execution_count": null,
      "outputs": [
        {
          "output_type": "stream",
          "name": "stdout",
          "text": [
            "[\"['HomeGoods', 'GRAND MORTON TOWN CENTER', '2732 WEST GRAND PKWY N', 'KATY, TX 77449', 'United States', '281-665-4300', 'REGULAR SALE', '35- CANDLES', '252897', '$15.00 T', 'Subtotal', '$15.00', 'TX 8.250% Sales Tax', '$1.24', 'Total', '$16.24', 'Gift Card', '$16.24', '9526', 'Entry Method: Swiped', 'Balance: $81.17', 'Change', '$0.00', 'HOMEGOODS VALUES YOUR FEEDBACK!!!!', 'Tell us what you think about', 'your store visit today and', 'enter a monthly drawing to win a', '$500 HomeGoods Gift Card!', 'Visit www.HOHEGOODSFEEDBACK.com', 'Respond by 9/11/22', 'You will need to reference', 'your receipt', 'Survey number: 1011026519', 'SEE WEBSITE FOR COMPLETE RULES', 'Sold Item Count = 1', '01131KYN611411ELP4AWR4Q', '281011 2 6519 08/28/2022 18:56:03', '1053', 'Customer Copy', 'THANK YOU FOR SHOPPING AT HOMEGOODS']\"]\n",
            "['HomeGoods', 'GRAND MORTON TOWN CENTER', '2732 WEST GRAND PKWY N', 'KATY, TX 77449', 'United States', '281-665-4300', 'REGULAR SALE', '35- CANDLES', '252897', '$15.00 T', 'Subtotal', '$15.00', 'TX 8.250% Sales Tax', '$1.24', 'Total', '$16.24', 'Gift Card', '$16.24', '9526', 'Entry Method: Swiped', 'Balance: $81.17', 'Change', '$0.00', 'HOMEGOODS VALUES YOUR FEEDBACK!!!!', 'Tell us what you think about', 'your store visit today and', 'enter a monthly drawing to win a', '$500 HomeGoods Gift Card!', 'Visit www.HOHEGOODSFEEDBACK.com', 'Respond by 9/11/22', 'You will need to reference', 'your receipt', 'Survey number: 1011026519', 'SEE WEBSITE FOR COMPLETE RULES', 'Sold Item Count = 1', '01131KYN611411ELP4AWR4Q', '281011 2 6519 08/28/2022 18:56:03', '1053', 'Customer Copy', 'THANK YOU FOR SHOPPING AT HOMEGOODS']\n"
          ]
        }
      ]
    }
  ]
}