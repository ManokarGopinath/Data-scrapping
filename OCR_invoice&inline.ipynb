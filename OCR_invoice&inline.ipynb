{
  "nbformat": 4,
  "nbformat_minor": 0,
  "metadata": {
    "colab": {
      "provenance": [],
      "collapsed_sections": [],
      "authorship_tag": "ABX9TyO7kghaI5ZlKmpEXz/Ysh7e",
      "include_colab_link": true
    },
    "kernelspec": {
      "name": "python3",
      "display_name": "Python 3"
    },
    "language_info": {
      "name": "python"
    }
  },
  "cells": [
    {
      "cell_type": "markdown",
      "metadata": {
        "id": "view-in-github",
        "colab_type": "text"
      },
      "source": [
        "<a href=\"https://colab.research.google.com/github/ManokarGopinath/Data-scrapping/blob/main/OCR_invoice%26inline.ipynb\" target=\"_parent\"><img src=\"https://colab.research.google.com/assets/colab-badge.svg\" alt=\"Open In Colab\"/></a>"
      ]
    },
    {
      "cell_type": "markdown",
      "source": [
        "**Invoice**"
      ],
      "metadata": {
        "id": "sR_Zzc8XiGu1"
      }
    },
    {
      "cell_type": "code",
      "source": [
        "# reading by columns and getting output as list\n",
        "import pandas as pd\n",
        "import csv\n",
        "with open('key_value.csv', encoding='utf-8-sig') as csvfile:\n",
        "    reader = csv.reader(csvfile)\n",
        "    count = 0\n",
        "    fsa=[]\n",
        "    for row in reader:\n",
        "        count = count+1\n",
        "        #print(row[2])\n",
        "        fsa.append(row[2])\n",
        "print(fsa[0:])\n",
        "#print(fsa[3:])\n",
        "\n",
        "df = pd.DataFrame({'Invoice_id': '',\n",
        "                   'InvoiceNo_ReceiptNo': fsa[11],\n",
        "                   'User_id_FK': '',\n",
        "                   'CustomerRef': '',\n",
        "                   'Transaction_Date': fsa[6],\n",
        "                   'TermsRef': '',\n",
        "                   'SalesRepRef_AssociateID': '',\n",
        "                   'Memo': '',\n",
        "                   'DueDate': '',\n",
        "                   'BillContact': '',\n",
        "                   'BillAddress1': '',\n",
        "                   'BillAddress2': '',\n",
        "                   'BillCity': '',\n",
        "                   'BillState': '',\n",
        "                   'BillPostalCode': '',\n",
        "                   'BillCountry': '',\n",
        "                   'ShipContact': '',\n",
        "                   'ShipAddress1': '',\n",
        "                   'ShipAddress2': '',\n",
        "                   'ShipCity': '',\n",
        "                   'ShipState': '',\n",
        "                   'ShipPostalCode': '',\n",
        "                   'ShipCountry': '',\n",
        "                   'QB_TranscationID': '',\n",
        "                   'Store_name': '',\n",
        "                   'Storeaddress': '',\n",
        "                   'storesuite': '',\n",
        "                   'storecity': '',\n",
        "                   'storestate': '',\n",
        "                   'storezipcode': '',\n",
        "                   'storephone': '',\n",
        "                   'invoice_subtotal': fsa[16],\n",
        "                   'SalesTaxPercent': fsa[14],\n",
        "                   'Salestas': '',\n",
        "                   'Total': fsa[13],\n",
        "                   'NumberOfItemsSold': fsa[5],\n",
        "                   'NumberOfItemsReturned': fsa[9],\n",
        "                   'CardType': fsa[12],\n",
        "                   'CardNumber': fsa[8],\n",
        "                   'AuthNo': fsa[7],\n",
        "                   'AID': fsa[1],\n",
        "                   'TenderDetails': fsa[17],\n",
        "                   'Barcode': '',\n",
        "                   'StoreID': fsa[3],\n",
        "                   'Website': ''},index=[0])\n",
        "df\n",
        "df.to_csv(\"invoice.csv\", index=None)"
      ],
      "metadata": {
        "colab": {
          "base_uri": "https://localhost:8080/"
        },
        "id": "2hRdlKa_iVYg",
        "outputId": "9f4975c6-a877-4191-c15d-579675fd9c74"
      },
      "execution_count": 78,
      "outputs": [
        {
          "output_type": "stream",
          "name": "stdout",
          "text": [
            "['Values', 'A0000000031010', '5022', '1685', '01', '2', '07/12/22 11:40:28 AM ASSOC:', '08912D', 'XXXXXXXXXXXX2868 <I>', '0', '1685-01-5022-2193-7', '1685-01-5022-2193-7', 'CREDIT', '$129.88', '$9.90', 'VALUE_NOT_FOUND', '$119.98', 'Detail #:1-01 2.09 012988']\n"
          ]
        }
      ]
    },
    {
      "cell_type": "markdown",
      "source": [
        "**Invoice_Inline**"
      ],
      "metadata": {
        "id": "z3lF-NXXk2TF"
      }
    },
    {
      "cell_type": "code",
      "source": [
        "import pandas as pd\n",
        "import csv\n",
        "with open('table.csv', encoding='utf-8-sig') as csvfile:\n",
        "    reader = csv.reader(csvfile)\n",
        "    count = 0\n",
        "    fsa=[]\n",
        "    a=[]\n",
        "    for row in reader:\n",
        "        count = count+1\n",
        "        #print(row[2])\n",
        "        fsa.append(row[2])\n",
        "        a.append(row[3])\n",
        "print(fsa[0:])\n",
        "print(a[0:])\n",
        "\n",
        "fruits = fsa[0:]\n",
        "\n",
        "x = fruits.count(\"Subtotal\")\n",
        "x+=1\n",
        "x\n",
        "type(x)\n",
        "\n",
        "fsa[0:x]\n",
        "a[0:x]\n",
        "\n",
        "df = pd.DataFrame({'Line_ItemName': fsa[0:x],\n",
        "                  'Subtotal': a[0:x]})\n",
        "df\n",
        "df.to_csv(\"output.csv\", index=None)"
      ],
      "metadata": {
        "colab": {
          "base_uri": "https://localhost:8080/"
        },
        "id": "s-9v2JaGk-nU",
        "outputId": "df2dd11c-820d-4831-8e72-3b58881e9aa9"
      },
      "execution_count": 86,
      "outputs": [
        {
          "output_type": "stream",
          "name": "stdout",
          "text": [
            "[\"400248173885 VERSACE L 'HOMME 3.\", '400244460217 xGrainam 24 Blk 4W', 'Subtotal', 'Sales Tax 8.250%', 'Total', 'Sold: 2 Returned: 0', 'Visa']\n",
            "['$34.99R', '$84.99R', '$119.98', '$9.90', '$129.88', ' ', '$129.88']\n"
          ]
        }
      ]
    },
    {
      "cell_type": "code",
      "source": [
        "import pandas as pd\n",
        "import csv\n",
        "with open('output.csv', encoding='utf-8-sig') as csvfile:\n",
        "    reader = csv.reader(csvfile)\n",
        "    count = 0\n",
        "    a=[]\n",
        "    b=[]\n",
        "    for row in reader:\n",
        "        count = count+1\n",
        "        #print(row[2])\n",
        "        a.append(row[0])\n",
        "        b.append(row[1])\n",
        "print(a[1:])\n",
        "print(b[1:])\n",
        "\n",
        "for x in a:\n",
        "  s = slice(12)\n",
        "  print(x[s])\n",
        "\n",
        "df = pd.read_csv(\"output.csv\")\n",
        "#print(df)\n",
        "var = df['Line_ItemName'].tolist()\n",
        "var\n",
        "h = []\n",
        "for x in var:\n",
        "  s = slice(12)\n",
        "  print(x[s])\n",
        "  h.append(x[s])\n",
        "print(h)\n",
        "\n",
        "df = pd.read_csv(\"output.csv\")\n",
        "#print(df)\n",
        "var = df['Line_ItemName'].tolist()\n",
        "var\n",
        "d = []\n",
        "for x in var:\n",
        "  s1 = x.split()\n",
        "  print(s1)\n",
        "  m = ' '.join(s1[1:])\n",
        "  d.append(m)\n",
        "print(m)\n",
        "print(d)\n",
        "\n",
        "df = pd.read_csv(\"output.csv\")\n",
        "#print(df)\n",
        "var = df['Subtotal'].tolist()\n",
        "var\n",
        "g = []\n",
        "for x in var:\n",
        "  s = slice(6)\n",
        "  print(x[s][1:])\n",
        "  g.append(x[s][1:])\n",
        "print(g)\n",
        "\n",
        "df = pd.read_csv(\"output.csv\")\n",
        "#print(df)\n",
        "var = df['Subtotal'].tolist()\n",
        "var[0][2:]\n",
        "f = []\n",
        "for x in var:\n",
        "  c = var[0][1:]\n",
        "  e = var[0][-1]\n",
        "  print(c)\n",
        "  print(e)\n",
        "  f.append(e)\n",
        "print(f)\n",
        "\n",
        "df = pd.DataFrame({'Invoice_Line_Id (Primarykey and Auto increment)': '',\n",
        "                   'Line_Invoice_Id_FK': '',\n",
        "                   'User_id_FK': '',\n",
        "                   'Line_ItemName': (h),\n",
        "                   'Line_ItemDesc': (d),\n",
        "                   'Line_UOM': '',\n",
        "                   'Line_ItemQuantity': '',\n",
        "                   'Line_ItemRate': (g),\n",
        "                   'line_item_amount': (g),\n",
        "                   'line_item_Taxable': (f),\n",
        "                   'line_item_return': ''})\n",
        "df\n",
        "df.to_csv(\"invoice_inline.csv\", index=None)"
      ],
      "metadata": {
        "colab": {
          "base_uri": "https://localhost:8080/"
        },
        "id": "bY7oeAHUnbeO",
        "outputId": "ca1bcb99-b48c-4781-9568-58c37e46786f"
      },
      "execution_count": 98,
      "outputs": [
        {
          "output_type": "stream",
          "name": "stdout",
          "text": [
            "[\"400248173885 VERSACE L 'HOMME 3.\", '400244460217 xGrainam 24 Blk 4W']\n",
            "['$34.99R', '$84.99R']\n",
            "Line_ItemNam\n",
            "400248173885\n",
            "400244460217\n",
            "400248173885\n",
            "400244460217\n",
            "['400248173885', '400244460217']\n",
            "['400248173885', 'VERSACE', 'L', \"'HOMME\", '3.']\n",
            "['400244460217', 'xGrainam', '24', 'Blk', '4W']\n",
            "xGrainam 24 Blk 4W\n",
            "[\"VERSACE L 'HOMME 3.\", 'xGrainam 24 Blk 4W']\n",
            "34.99\n",
            "84.99\n",
            "['34.99', '84.99']\n",
            "34.99R\n",
            "R\n",
            "34.99R\n",
            "R\n",
            "['R', 'R']\n"
          ]
        }
      ]
    },
    {
      "cell_type": "markdown",
      "source": [
        "**Referance**"
      ],
      "metadata": {
        "id": "k1bUxorftFRq"
      }
    },
    {
      "cell_type": "code",
      "source": [
        "# Load pandas\n",
        "import pandas as pd\n",
        "\n",
        "# Read CSV file into DataFrame df\n",
        "df = pd.read_csv('table.csv', index_col=0)\n",
        "\n",
        "# Show dataframe\n",
        "print(df)"
      ],
      "metadata": {
        "colab": {
          "base_uri": "https://localhost:8080/"
        },
        "id": "8rVdfyTnHY5f",
        "outputId": "101709f5-8888-4032-a4f5-81df5a0fcb2e"
      },
      "execution_count": null,
      "outputs": [
        {
          "output_type": "stream",
          "name": "stdout",
          "text": [
            "  400248173885 VERSACE L 'HOMME 3.  $34.99R\n",
            "1  400244460217 xGrainam 24 Blk 4W  $84.99R\n",
            "2                         Subtotal  $119.98\n",
            "3                 Sales Tax 8.250%    $9.90\n",
            "4                            Total  $129.88\n",
            "5              Sold: 2 Returned: 0         \n",
            "6                             Visa  $129.88\n"
          ]
        }
      ]
    },
    {
      "cell_type": "code",
      "source": [
        "import pandas as pd\n",
        "\n",
        "dataset = pd.read_csv('table.csv')\n",
        "ftCol = dataset.iloc[:, 1].values\n",
        "ftCol\n",
        "print(ftCol)\n"
      ],
      "metadata": {
        "colab": {
          "base_uri": "https://localhost:8080/"
        },
        "id": "_7rhGZSdJtEf",
        "outputId": "ed8ed4cf-ed68-4934-df0b-17f878414ec3"
      },
      "execution_count": null,
      "outputs": [
        {
          "output_type": "stream",
          "name": "stdout",
          "text": [
            "['400244460217 xGrainam 24 Blk 4W' 'Subtotal' 'Sales Tax 8.250%' 'Total'\n",
            " 'Sold: 2 Returned: 0' 'Visa']\n"
          ]
        }
      ]
    },
    {
      "cell_type": "code",
      "source": [
        "import pandas as pd\n",
        "\n",
        "dataset = pd.read_csv('table.csv')\n",
        "ftCol = dataset.iloc[:, 1].values\n",
        "ftCol\n",
        "print(ftCol[0])"
      ],
      "metadata": {
        "colab": {
          "base_uri": "https://localhost:8080/"
        },
        "id": "CeHUlHtuKmqe",
        "outputId": "b2190edd-85cb-4276-a3fc-0ba913bdeb9d"
      },
      "execution_count": null,
      "outputs": [
        {
          "output_type": "stream",
          "name": "stdout",
          "text": [
            "400244460217 xGrainam 24 Blk 4W\n"
          ]
        }
      ]
    },
    {
      "cell_type": "code",
      "source": [
        "# Python program to demonstrate\n",
        "# string slicing\n",
        "\n",
        "# String slicing\n",
        "String = 'ASTRING'\n",
        "\n",
        "# Using slice constructor\n",
        "s1 = slice(3)\n",
        "s2 = slice(1, 5, 2)\n",
        "s3 = slice(-1, -12, -2)\n",
        "\n",
        "print(String[s1])\n",
        "print(String[s2])\n",
        "print(String[s3])\n"
      ],
      "metadata": {
        "colab": {
          "base_uri": "https://localhost:8080/"
        },
        "id": "H_TrZxwcLm0M",
        "outputId": "190f1978-36b4-4dd2-af09-36ecded2dd8d"
      },
      "execution_count": null,
      "outputs": [
        {
          "output_type": "stream",
          "name": "stdout",
          "text": [
            "AST\n",
            "SR\n",
            "GITA\n"
          ]
        }
      ]
    },
    {
      "cell_type": "code",
      "source": [
        "import pandas as pd\n",
        "\n",
        "dataset = pd.read_csv('table.csv')\n",
        "ftCol = dataset.iloc[:, 1].values\n",
        "ftCol\n",
        "s1 = ftCol[1]\n",
        "s = slice(12)\n",
        "print(s1[s])"
      ],
      "metadata": {
        "colab": {
          "base_uri": "https://localhost:8080/"
        },
        "id": "FiqEpKaOL6RY",
        "outputId": "f12513b2-c748-4839-ec3f-cb6de6019433"
      },
      "execution_count": null,
      "outputs": [
        {
          "output_type": "stream",
          "name": "stdout",
          "text": [
            "Subtotal\n"
          ]
        }
      ]
    },
    {
      "cell_type": "code",
      "source": [
        "import pandas as pd\n",
        "\n",
        "dataset = pd.read_csv('table.csv')\n",
        "ftCol = dataset.iloc[:, 2].values\n",
        "ftCol\n",
        "s1 = ftCol[0].split()\n",
        "#s = slice(12)\n",
        "#print(s1[s])\n",
        "#print(s1[1:])\n",
        "m = ' '.join(s1[1:])\n",
        "print(m)"
      ],
      "metadata": {
        "colab": {
          "base_uri": "https://localhost:8080/"
        },
        "id": "HEvju9JlNxXt",
        "outputId": "02cd877e-12c6-46bc-a234-a8a9769d9c6f"
      },
      "execution_count": null,
      "outputs": [
        {
          "output_type": "stream",
          "name": "stdout",
          "text": [
            "xGrainam 24 Blk 4W\n"
          ]
        }
      ]
    },
    {
      "cell_type": "code",
      "source": [
        "# reading by columns and getting output as list\n",
        "import pandas as pd\n",
        "import csv\n",
        "with open('table.csv', encoding='utf-8-sig') as csvfile:\n",
        "    reader = csv.reader(csvfile)\n",
        "    count = 0\n",
        "    fsa=[]\n",
        "    for row in reader:\n",
        "        count = count+1\n",
        "        #print(row[2])\n",
        "        fsa.append(row[2])\n",
        "print(fsa[0:])\n",
        "print(fsa[3:])\n",
        "s1 = fsa[1]\n",
        "s = slice(12)\n",
        "print(s1[s])"
      ],
      "metadata": {
        "colab": {
          "base_uri": "https://localhost:8080/"
        },
        "id": "BfeIZjz_R0AD",
        "outputId": "3b1a020b-eec8-4d73-c23c-615171aff77a"
      },
      "execution_count": null,
      "outputs": [
        {
          "output_type": "stream",
          "name": "stdout",
          "text": [
            "[\"400248173885 VERSACE L 'HOMME 3.\", '400244460217 xGrainam 24 Blk 4W', 'Subtotal', 'Sales Tax 8.250%', 'Total', 'Sold: 2 Returned: 0', 'Visa']\n",
            "['Sales Tax 8.250%', 'Total', 'Sold: 2 Returned: 0', 'Visa']\n",
            "400244460217\n"
          ]
        }
      ]
    },
    {
      "cell_type": "code",
      "source": [
        "# reading by columns and getting output as list\n",
        "import pandas as pd\n",
        "import csv\n",
        "with open('table.csv', encoding='utf-8-sig') as csvfile:\n",
        "    reader = csv.reader(csvfile)\n",
        "    count = 0\n",
        "    fsa=[]\n",
        "    for row in reader:\n",
        "        count = count+1\n",
        "        #print(row[2])\n",
        "        fsa.append(row[2])\n",
        "#print(fsa[0:])\n",
        "#print(fsa[3:])\n",
        "s1 = fsa[1].split()\n",
        "#s = slice(12)\n",
        "#print(s1[s])\n",
        "#print(s1[1:])\n",
        "m = ' '.join(s1[1:])\n",
        "print(m)"
      ],
      "metadata": {
        "colab": {
          "base_uri": "https://localhost:8080/"
        },
        "id": "Ii8X0XO9R5_P",
        "outputId": "e6052b4d-599c-4ee4-f746-82a82cc98d5d"
      },
      "execution_count": null,
      "outputs": [
        {
          "output_type": "stream",
          "name": "stdout",
          "text": [
            "xGrainam 24 Blk 4W\n"
          ]
        }
      ]
    }
  ]
}